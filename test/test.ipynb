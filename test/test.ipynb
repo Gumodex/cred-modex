{
 "cells": [
  {
   "cell_type": "code",
   "execution_count": 1,
   "id": "378f0657",
   "metadata": {},
   "outputs": [],
   "source": [
    "import sys\n",
    "import os\n",
    "import warnings\n",
    "\n",
    "import pandas as pd\n",
    "import numpy as np\n",
    "import matplotlib.pyplot as plt\n",
    "import plotly.graph_objects as go\n",
    "import plotly.figure_factory as ff\n",
    "\n",
    "import warnings\n",
    "warnings.simplefilter(action='ignore', category=FutureWarning)\n",
    "\n",
    "sys.path.append(os.path.abspath('..'))\n",
    "from credmodex.credlab import CredLab\n",
    "import credmodex\n",
    "\n",
    "from sklearn.linear_model import LogisticRegression\n",
    "from credmodex.utils import plotly_main_layout"
   ]
  },
  {
   "cell_type": "code",
   "execution_count": 2,
   "id": "de277822",
   "metadata": {},
   "outputs": [],
   "source": [
    "df = {\n",
    "    'Grade': [0]*(95+309) + [1]*(187+224) + [2]*(549+299) + [3]*(1409+495) + [4]*(3743+690) + [5]*(4390+424) + [6]*(2008+94) + [7]*(593+8),\n",
    "    'y_true': [0]*95+[1]*309 + [0]*187+[1]*224 + [0]*549+[1]*299 + [0]*1409+[1]*495 + [0]*3743+[1]*690 + [0]*4390+[1]*424 + [0]*2008+[1]*94 + [0]*593+[1]*8,\n",
    "    'y_pred': [309/(95+309)]*(95+309) + [224/(187+224)]*(187+224) + [299/(549+299)]*(549+299) + [495/(1409+495)]*(1409+495) + [690/(3743+690)]*(3743+690) + [424/(4390+424)]*(4390+424) + [94/(2008+94)]*(2008+94) + [8/(593+8)]*(593+8)\n",
    "}\n",
    "df = pd.DataFrame(df)"
   ]
  },
  {
   "cell_type": "code",
   "execution_count": 3,
   "id": "d517fb0f",
   "metadata": {},
   "outputs": [],
   "source": [
    "df = {\n",
    "    \"I\": list(range(1, 10)),\n",
    "    \"Y\": [1, 0, 1, 1, 1, 0, 1, 0, 1,],\n",
    "    \"mu\": [0.90, 0.10, 0.80, 0.70, 0.45, 0.35, 0.70, 0.20, 0.80],\n",
    "}\n",
    "df = pd.DataFrame(df)"
   ]
  },
  {
   "cell_type": "code",
   "execution_count": 4,
   "id": "f35bcd51",
   "metadata": {},
   "outputs": [],
   "source": [
    "df = pd.read_csv(r'df.csv')\n",
    "df['data'] = df['data'].astype('datetime64[ns]')\n",
    "df = df[df['data'] <= '2024-07-30']\n",
    "df[df['score scr'] == -999999.0] = np.nan"
   ]
  },
  {
   "cell_type": "code",
   "execution_count": 5,
   "id": "76d9e99c",
   "metadata": {},
   "outputs": [],
   "source": [
    "features = ['idade','score scr','score pod','score nv','total_consultas','total_spc','cidade_loja_cliente']\n",
    "\n",
    "project = CredLab(\n",
    "    df, target='over', features=features, time_column='data',\n",
    "    test_size=0.2, split_type='random'\n",
    ")"
   ]
  },
  {
   "cell_type": "code",
   "execution_count": 6,
   "id": "5babedeb",
   "metadata": {},
   "outputs": [
    {
     "data": {
      "text/html": [
       "<style>#sk-container-id-1 {\n",
       "  /* Definition of color scheme common for light and dark mode */\n",
       "  --sklearn-color-text: #000;\n",
       "  --sklearn-color-text-muted: #666;\n",
       "  --sklearn-color-line: gray;\n",
       "  /* Definition of color scheme for unfitted estimators */\n",
       "  --sklearn-color-unfitted-level-0: #fff5e6;\n",
       "  --sklearn-color-unfitted-level-1: #f6e4d2;\n",
       "  --sklearn-color-unfitted-level-2: #ffe0b3;\n",
       "  --sklearn-color-unfitted-level-3: chocolate;\n",
       "  /* Definition of color scheme for fitted estimators */\n",
       "  --sklearn-color-fitted-level-0: #f0f8ff;\n",
       "  --sklearn-color-fitted-level-1: #d4ebff;\n",
       "  --sklearn-color-fitted-level-2: #b3dbfd;\n",
       "  --sklearn-color-fitted-level-3: cornflowerblue;\n",
       "\n",
       "  /* Specific color for light theme */\n",
       "  --sklearn-color-text-on-default-background: var(--sg-text-color, var(--theme-code-foreground, var(--jp-content-font-color1, black)));\n",
       "  --sklearn-color-background: var(--sg-background-color, var(--theme-background, var(--jp-layout-color0, white)));\n",
       "  --sklearn-color-border-box: var(--sg-text-color, var(--theme-code-foreground, var(--jp-content-font-color1, black)));\n",
       "  --sklearn-color-icon: #696969;\n",
       "\n",
       "  @media (prefers-color-scheme: dark) {\n",
       "    /* Redefinition of color scheme for dark theme */\n",
       "    --sklearn-color-text-on-default-background: var(--sg-text-color, var(--theme-code-foreground, var(--jp-content-font-color1, white)));\n",
       "    --sklearn-color-background: var(--sg-background-color, var(--theme-background, var(--jp-layout-color0, #111)));\n",
       "    --sklearn-color-border-box: var(--sg-text-color, var(--theme-code-foreground, var(--jp-content-font-color1, white)));\n",
       "    --sklearn-color-icon: #878787;\n",
       "  }\n",
       "}\n",
       "\n",
       "#sk-container-id-1 {\n",
       "  color: var(--sklearn-color-text);\n",
       "}\n",
       "\n",
       "#sk-container-id-1 pre {\n",
       "  padding: 0;\n",
       "}\n",
       "\n",
       "#sk-container-id-1 input.sk-hidden--visually {\n",
       "  border: 0;\n",
       "  clip: rect(1px 1px 1px 1px);\n",
       "  clip: rect(1px, 1px, 1px, 1px);\n",
       "  height: 1px;\n",
       "  margin: -1px;\n",
       "  overflow: hidden;\n",
       "  padding: 0;\n",
       "  position: absolute;\n",
       "  width: 1px;\n",
       "}\n",
       "\n",
       "#sk-container-id-1 div.sk-dashed-wrapped {\n",
       "  border: 1px dashed var(--sklearn-color-line);\n",
       "  margin: 0 0.4em 0.5em 0.4em;\n",
       "  box-sizing: border-box;\n",
       "  padding-bottom: 0.4em;\n",
       "  background-color: var(--sklearn-color-background);\n",
       "}\n",
       "\n",
       "#sk-container-id-1 div.sk-container {\n",
       "  /* jupyter's `normalize.less` sets `[hidden] { display: none; }`\n",
       "     but bootstrap.min.css set `[hidden] { display: none !important; }`\n",
       "     so we also need the `!important` here to be able to override the\n",
       "     default hidden behavior on the sphinx rendered scikit-learn.org.\n",
       "     See: https://github.com/scikit-learn/scikit-learn/issues/21755 */\n",
       "  display: inline-block !important;\n",
       "  position: relative;\n",
       "}\n",
       "\n",
       "#sk-container-id-1 div.sk-text-repr-fallback {\n",
       "  display: none;\n",
       "}\n",
       "\n",
       "div.sk-parallel-item,\n",
       "div.sk-serial,\n",
       "div.sk-item {\n",
       "  /* draw centered vertical line to link estimators */\n",
       "  background-image: linear-gradient(var(--sklearn-color-text-on-default-background), var(--sklearn-color-text-on-default-background));\n",
       "  background-size: 2px 100%;\n",
       "  background-repeat: no-repeat;\n",
       "  background-position: center center;\n",
       "}\n",
       "\n",
       "/* Parallel-specific style estimator block */\n",
       "\n",
       "#sk-container-id-1 div.sk-parallel-item::after {\n",
       "  content: \"\";\n",
       "  width: 100%;\n",
       "  border-bottom: 2px solid var(--sklearn-color-text-on-default-background);\n",
       "  flex-grow: 1;\n",
       "}\n",
       "\n",
       "#sk-container-id-1 div.sk-parallel {\n",
       "  display: flex;\n",
       "  align-items: stretch;\n",
       "  justify-content: center;\n",
       "  background-color: var(--sklearn-color-background);\n",
       "  position: relative;\n",
       "}\n",
       "\n",
       "#sk-container-id-1 div.sk-parallel-item {\n",
       "  display: flex;\n",
       "  flex-direction: column;\n",
       "}\n",
       "\n",
       "#sk-container-id-1 div.sk-parallel-item:first-child::after {\n",
       "  align-self: flex-end;\n",
       "  width: 50%;\n",
       "}\n",
       "\n",
       "#sk-container-id-1 div.sk-parallel-item:last-child::after {\n",
       "  align-self: flex-start;\n",
       "  width: 50%;\n",
       "}\n",
       "\n",
       "#sk-container-id-1 div.sk-parallel-item:only-child::after {\n",
       "  width: 0;\n",
       "}\n",
       "\n",
       "/* Serial-specific style estimator block */\n",
       "\n",
       "#sk-container-id-1 div.sk-serial {\n",
       "  display: flex;\n",
       "  flex-direction: column;\n",
       "  align-items: center;\n",
       "  background-color: var(--sklearn-color-background);\n",
       "  padding-right: 1em;\n",
       "  padding-left: 1em;\n",
       "}\n",
       "\n",
       "\n",
       "/* Toggleable style: style used for estimator/Pipeline/ColumnTransformer box that is\n",
       "clickable and can be expanded/collapsed.\n",
       "- Pipeline and ColumnTransformer use this feature and define the default style\n",
       "- Estimators will overwrite some part of the style using the `sk-estimator` class\n",
       "*/\n",
       "\n",
       "/* Pipeline and ColumnTransformer style (default) */\n",
       "\n",
       "#sk-container-id-1 div.sk-toggleable {\n",
       "  /* Default theme specific background. It is overwritten whether we have a\n",
       "  specific estimator or a Pipeline/ColumnTransformer */\n",
       "  background-color: var(--sklearn-color-background);\n",
       "}\n",
       "\n",
       "/* Toggleable label */\n",
       "#sk-container-id-1 label.sk-toggleable__label {\n",
       "  cursor: pointer;\n",
       "  display: flex;\n",
       "  width: 100%;\n",
       "  margin-bottom: 0;\n",
       "  padding: 0.5em;\n",
       "  box-sizing: border-box;\n",
       "  text-align: center;\n",
       "  align-items: start;\n",
       "  justify-content: space-between;\n",
       "  gap: 0.5em;\n",
       "}\n",
       "\n",
       "#sk-container-id-1 label.sk-toggleable__label .caption {\n",
       "  font-size: 0.6rem;\n",
       "  font-weight: lighter;\n",
       "  color: var(--sklearn-color-text-muted);\n",
       "}\n",
       "\n",
       "#sk-container-id-1 label.sk-toggleable__label-arrow:before {\n",
       "  /* Arrow on the left of the label */\n",
       "  content: \"▸\";\n",
       "  float: left;\n",
       "  margin-right: 0.25em;\n",
       "  color: var(--sklearn-color-icon);\n",
       "}\n",
       "\n",
       "#sk-container-id-1 label.sk-toggleable__label-arrow:hover:before {\n",
       "  color: var(--sklearn-color-text);\n",
       "}\n",
       "\n",
       "/* Toggleable content - dropdown */\n",
       "\n",
       "#sk-container-id-1 div.sk-toggleable__content {\n",
       "  max-height: 0;\n",
       "  max-width: 0;\n",
       "  overflow: hidden;\n",
       "  text-align: left;\n",
       "  /* unfitted */\n",
       "  background-color: var(--sklearn-color-unfitted-level-0);\n",
       "}\n",
       "\n",
       "#sk-container-id-1 div.sk-toggleable__content.fitted {\n",
       "  /* fitted */\n",
       "  background-color: var(--sklearn-color-fitted-level-0);\n",
       "}\n",
       "\n",
       "#sk-container-id-1 div.sk-toggleable__content pre {\n",
       "  margin: 0.2em;\n",
       "  border-radius: 0.25em;\n",
       "  color: var(--sklearn-color-text);\n",
       "  /* unfitted */\n",
       "  background-color: var(--sklearn-color-unfitted-level-0);\n",
       "}\n",
       "\n",
       "#sk-container-id-1 div.sk-toggleable__content.fitted pre {\n",
       "  /* unfitted */\n",
       "  background-color: var(--sklearn-color-fitted-level-0);\n",
       "}\n",
       "\n",
       "#sk-container-id-1 input.sk-toggleable__control:checked~div.sk-toggleable__content {\n",
       "  /* Expand drop-down */\n",
       "  max-height: 200px;\n",
       "  max-width: 100%;\n",
       "  overflow: auto;\n",
       "}\n",
       "\n",
       "#sk-container-id-1 input.sk-toggleable__control:checked~label.sk-toggleable__label-arrow:before {\n",
       "  content: \"▾\";\n",
       "}\n",
       "\n",
       "/* Pipeline/ColumnTransformer-specific style */\n",
       "\n",
       "#sk-container-id-1 div.sk-label input.sk-toggleable__control:checked~label.sk-toggleable__label {\n",
       "  color: var(--sklearn-color-text);\n",
       "  background-color: var(--sklearn-color-unfitted-level-2);\n",
       "}\n",
       "\n",
       "#sk-container-id-1 div.sk-label.fitted input.sk-toggleable__control:checked~label.sk-toggleable__label {\n",
       "  background-color: var(--sklearn-color-fitted-level-2);\n",
       "}\n",
       "\n",
       "/* Estimator-specific style */\n",
       "\n",
       "/* Colorize estimator box */\n",
       "#sk-container-id-1 div.sk-estimator input.sk-toggleable__control:checked~label.sk-toggleable__label {\n",
       "  /* unfitted */\n",
       "  background-color: var(--sklearn-color-unfitted-level-2);\n",
       "}\n",
       "\n",
       "#sk-container-id-1 div.sk-estimator.fitted input.sk-toggleable__control:checked~label.sk-toggleable__label {\n",
       "  /* fitted */\n",
       "  background-color: var(--sklearn-color-fitted-level-2);\n",
       "}\n",
       "\n",
       "#sk-container-id-1 div.sk-label label.sk-toggleable__label,\n",
       "#sk-container-id-1 div.sk-label label {\n",
       "  /* The background is the default theme color */\n",
       "  color: var(--sklearn-color-text-on-default-background);\n",
       "}\n",
       "\n",
       "/* On hover, darken the color of the background */\n",
       "#sk-container-id-1 div.sk-label:hover label.sk-toggleable__label {\n",
       "  color: var(--sklearn-color-text);\n",
       "  background-color: var(--sklearn-color-unfitted-level-2);\n",
       "}\n",
       "\n",
       "/* Label box, darken color on hover, fitted */\n",
       "#sk-container-id-1 div.sk-label.fitted:hover label.sk-toggleable__label.fitted {\n",
       "  color: var(--sklearn-color-text);\n",
       "  background-color: var(--sklearn-color-fitted-level-2);\n",
       "}\n",
       "\n",
       "/* Estimator label */\n",
       "\n",
       "#sk-container-id-1 div.sk-label label {\n",
       "  font-family: monospace;\n",
       "  font-weight: bold;\n",
       "  display: inline-block;\n",
       "  line-height: 1.2em;\n",
       "}\n",
       "\n",
       "#sk-container-id-1 div.sk-label-container {\n",
       "  text-align: center;\n",
       "}\n",
       "\n",
       "/* Estimator-specific */\n",
       "#sk-container-id-1 div.sk-estimator {\n",
       "  font-family: monospace;\n",
       "  border: 1px dotted var(--sklearn-color-border-box);\n",
       "  border-radius: 0.25em;\n",
       "  box-sizing: border-box;\n",
       "  margin-bottom: 0.5em;\n",
       "  /* unfitted */\n",
       "  background-color: var(--sklearn-color-unfitted-level-0);\n",
       "}\n",
       "\n",
       "#sk-container-id-1 div.sk-estimator.fitted {\n",
       "  /* fitted */\n",
       "  background-color: var(--sklearn-color-fitted-level-0);\n",
       "}\n",
       "\n",
       "/* on hover */\n",
       "#sk-container-id-1 div.sk-estimator:hover {\n",
       "  /* unfitted */\n",
       "  background-color: var(--sklearn-color-unfitted-level-2);\n",
       "}\n",
       "\n",
       "#sk-container-id-1 div.sk-estimator.fitted:hover {\n",
       "  /* fitted */\n",
       "  background-color: var(--sklearn-color-fitted-level-2);\n",
       "}\n",
       "\n",
       "/* Specification for estimator info (e.g. \"i\" and \"?\") */\n",
       "\n",
       "/* Common style for \"i\" and \"?\" */\n",
       "\n",
       ".sk-estimator-doc-link,\n",
       "a:link.sk-estimator-doc-link,\n",
       "a:visited.sk-estimator-doc-link {\n",
       "  float: right;\n",
       "  font-size: smaller;\n",
       "  line-height: 1em;\n",
       "  font-family: monospace;\n",
       "  background-color: var(--sklearn-color-background);\n",
       "  border-radius: 1em;\n",
       "  height: 1em;\n",
       "  width: 1em;\n",
       "  text-decoration: none !important;\n",
       "  margin-left: 0.5em;\n",
       "  text-align: center;\n",
       "  /* unfitted */\n",
       "  border: var(--sklearn-color-unfitted-level-1) 1pt solid;\n",
       "  color: var(--sklearn-color-unfitted-level-1);\n",
       "}\n",
       "\n",
       ".sk-estimator-doc-link.fitted,\n",
       "a:link.sk-estimator-doc-link.fitted,\n",
       "a:visited.sk-estimator-doc-link.fitted {\n",
       "  /* fitted */\n",
       "  border: var(--sklearn-color-fitted-level-1) 1pt solid;\n",
       "  color: var(--sklearn-color-fitted-level-1);\n",
       "}\n",
       "\n",
       "/* On hover */\n",
       "div.sk-estimator:hover .sk-estimator-doc-link:hover,\n",
       ".sk-estimator-doc-link:hover,\n",
       "div.sk-label-container:hover .sk-estimator-doc-link:hover,\n",
       ".sk-estimator-doc-link:hover {\n",
       "  /* unfitted */\n",
       "  background-color: var(--sklearn-color-unfitted-level-3);\n",
       "  color: var(--sklearn-color-background);\n",
       "  text-decoration: none;\n",
       "}\n",
       "\n",
       "div.sk-estimator.fitted:hover .sk-estimator-doc-link.fitted:hover,\n",
       ".sk-estimator-doc-link.fitted:hover,\n",
       "div.sk-label-container:hover .sk-estimator-doc-link.fitted:hover,\n",
       ".sk-estimator-doc-link.fitted:hover {\n",
       "  /* fitted */\n",
       "  background-color: var(--sklearn-color-fitted-level-3);\n",
       "  color: var(--sklearn-color-background);\n",
       "  text-decoration: none;\n",
       "}\n",
       "\n",
       "/* Span, style for the box shown on hovering the info icon */\n",
       ".sk-estimator-doc-link span {\n",
       "  display: none;\n",
       "  z-index: 9999;\n",
       "  position: relative;\n",
       "  font-weight: normal;\n",
       "  right: .2ex;\n",
       "  padding: .5ex;\n",
       "  margin: .5ex;\n",
       "  width: min-content;\n",
       "  min-width: 20ex;\n",
       "  max-width: 50ex;\n",
       "  color: var(--sklearn-color-text);\n",
       "  box-shadow: 2pt 2pt 4pt #999;\n",
       "  /* unfitted */\n",
       "  background: var(--sklearn-color-unfitted-level-0);\n",
       "  border: .5pt solid var(--sklearn-color-unfitted-level-3);\n",
       "}\n",
       "\n",
       ".sk-estimator-doc-link.fitted span {\n",
       "  /* fitted */\n",
       "  background: var(--sklearn-color-fitted-level-0);\n",
       "  border: var(--sklearn-color-fitted-level-3);\n",
       "}\n",
       "\n",
       ".sk-estimator-doc-link:hover span {\n",
       "  display: block;\n",
       "}\n",
       "\n",
       "/* \"?\"-specific style due to the `<a>` HTML tag */\n",
       "\n",
       "#sk-container-id-1 a.estimator_doc_link {\n",
       "  float: right;\n",
       "  font-size: 1rem;\n",
       "  line-height: 1em;\n",
       "  font-family: monospace;\n",
       "  background-color: var(--sklearn-color-background);\n",
       "  border-radius: 1rem;\n",
       "  height: 1rem;\n",
       "  width: 1rem;\n",
       "  text-decoration: none;\n",
       "  /* unfitted */\n",
       "  color: var(--sklearn-color-unfitted-level-1);\n",
       "  border: var(--sklearn-color-unfitted-level-1) 1pt solid;\n",
       "}\n",
       "\n",
       "#sk-container-id-1 a.estimator_doc_link.fitted {\n",
       "  /* fitted */\n",
       "  border: var(--sklearn-color-fitted-level-1) 1pt solid;\n",
       "  color: var(--sklearn-color-fitted-level-1);\n",
       "}\n",
       "\n",
       "/* On hover */\n",
       "#sk-container-id-1 a.estimator_doc_link:hover {\n",
       "  /* unfitted */\n",
       "  background-color: var(--sklearn-color-unfitted-level-3);\n",
       "  color: var(--sklearn-color-background);\n",
       "  text-decoration: none;\n",
       "}\n",
       "\n",
       "#sk-container-id-1 a.estimator_doc_link.fitted:hover {\n",
       "  /* fitted */\n",
       "  background-color: var(--sklearn-color-fitted-level-3);\n",
       "}\n",
       "</style><div id=\"sk-container-id-1\" class=\"sk-top-container\"><div class=\"sk-text-repr-fallback\"><pre>LogisticRegression(max_iter=5000, solver=&#x27;saga&#x27;)</pre><b>In a Jupyter environment, please rerun this cell to show the HTML representation or trust the notebook. <br />On GitHub, the HTML representation is unable to render, please try loading this page with nbviewer.org.</b></div><div class=\"sk-container\" hidden><div class=\"sk-item\"><div class=\"sk-estimator fitted sk-toggleable\"><input class=\"sk-toggleable__control sk-hidden--visually\" id=\"sk-estimator-id-1\" type=\"checkbox\" checked><label for=\"sk-estimator-id-1\" class=\"sk-toggleable__label fitted sk-toggleable__label-arrow\"><div><div>LogisticRegression</div></div><div><a class=\"sk-estimator-doc-link fitted\" rel=\"noreferrer\" target=\"_blank\" href=\"https://scikit-learn.org/1.6/modules/generated/sklearn.linear_model.LogisticRegression.html\">?<span>Documentation for LogisticRegression</span></a><span class=\"sk-estimator-doc-link fitted\">i<span>Fitted</span></span></div></label><div class=\"sk-toggleable__content fitted\"><pre>LogisticRegression(max_iter=5000, solver=&#x27;saga&#x27;)</pre></div> </div></div></div></div>"
      ],
      "text/plain": [
       "LogisticRegression(max_iter=5000, solver='saga')"
      ]
     },
     "execution_count": 6,
     "metadata": {},
     "output_type": "execute_result"
    }
   ],
   "source": [
    "def treatment_func(df):\n",
    "    df = project.df.copy()\n",
    "    df = df.dropna()\n",
    "    return df\n",
    "\n",
    "project.add_model(\n",
    "    model=LogisticRegression(max_iter=5000, solver='saga'),\n",
    "    treatment=treatment_func,\n",
    ")"
   ]
  },
  {
   "cell_type": "code",
   "execution_count": 7,
   "id": "5f76da58",
   "metadata": {},
   "outputs": [
    {
     "data": {
      "text/plain": [
       "<credmodex.rating.calinski_harabasz_binning.CH_Binning at 0x1ec7e3dfbc0>"
      ]
     },
     "execution_count": 7,
     "metadata": {},
     "output_type": "execute_result"
    }
   ],
   "source": [
    "project.LogisticRegression_1.add_rating()"
   ]
  },
  {
   "cell_type": "code",
   "execution_count": 8,
   "id": "1941b0de",
   "metadata": {},
   "outputs": [
    {
     "data": {
      "application/vnd.plotly.v1+json": {
       "config": {
        "plotlyServerURL": "https://plot.ly"
       },
       "data": [
        {
         "line": {
          "color": "#AAAAAA",
          "width": 3
         },
         "mode": "lines",
         "showlegend": false,
         "type": "scatter",
         "x": [
          "H",
          "G",
          "F",
          "E",
          "D",
          "C",
          "B",
          "A"
         ],
         "y": {
          "bdata": "eMgDsL9PUED3EtpLaC9NQKvh4ocwyElAd2tam4uER0CRuUPmDhlFQD1bcm0XtUJAZEuZ95huP0BgxZ0LSjw5QA==",
          "dtype": "f8"
         }
        },
        {
         "marker": {
          "color": [
           "rgb(122, 4, 2)",
           "rgb(217, 56, 6)",
           "rgb(254, 155, 45)",
           "rgb(209, 232, 52)",
           "rgb(97, 252, 108)",
           "rgb(27, 207, 212)",
           "rgb(70, 117, 237)",
           "rgb(48, 18, 59)"
          ],
          "size": 10
         },
         "mode": "markers",
         "name": "A",
         "showlegend": false,
         "type": "scatter",
         "x": [
          "H",
          "G",
          "F",
          "E",
          "D",
          "C",
          "B",
          "A"
         ],
         "y": {
          "bdata": "eMgDsL9PUED3EtpLaC9NQKvh4ocwyElAd2tam4uER0CRuUPmDhlFQD1bcm0XtUJAZEuZ95huP0BgxZ0LSjw5QA==",
          "dtype": "f8"
         }
        },
        {
         "marker": {
          "color": [
           "rgb(122, 4, 2)",
           "rgb(217, 56, 6)",
           "rgb(254, 155, 45)",
           "rgb(209, 232, 52)",
           "rgb(97, 252, 108)",
           "rgb(27, 207, 212)",
           "rgb(70, 117, 237)",
           "rgb(48, 18, 59)"
          ]
         },
         "name": "A",
         "showlegend": false,
         "text": {
          "bdata": "AAAAAACbvUAAAAAAgFLOQAAAAAAA2cxAAAAAAACkyEAAAAAAAA7MQAAAAABAntFAAAAAAAB/y0AAAAAAAHG9QA==",
          "dtype": "f8"
         },
         "type": "bar",
         "x": [
          "H",
          "G",
          "F",
          "E",
          "D",
          "C",
          "B",
          "A"
         ],
         "y": {
          "bdata": "AAAAAAAAHUC4HoXrUbgtQMP1KFyPQixApHA9CtcjKEB7FK5H4XorQMP1KFyPQjFAcT0K16PwKkDXo3A9CtccQA==",
          "dtype": "f8"
         }
        }
       ],
       "layout": {
        "height": 600,
        "paper_bgcolor": "white",
        "plot_bgcolor": "white",
        "template": {
         "data": {
          "bar": [
           {
            "error_x": {
             "color": "#2a3f5f"
            },
            "error_y": {
             "color": "#2a3f5f"
            },
            "marker": {
             "line": {
              "color": "#E5ECF6",
              "width": 0.5
             },
             "pattern": {
              "fillmode": "overlay",
              "size": 10,
              "solidity": 0.2
             }
            },
            "type": "bar"
           }
          ],
          "barpolar": [
           {
            "marker": {
             "line": {
              "color": "#E5ECF6",
              "width": 0.5
             },
             "pattern": {
              "fillmode": "overlay",
              "size": 10,
              "solidity": 0.2
             }
            },
            "type": "barpolar"
           }
          ],
          "carpet": [
           {
            "aaxis": {
             "endlinecolor": "#2a3f5f",
             "gridcolor": "white",
             "linecolor": "white",
             "minorgridcolor": "white",
             "startlinecolor": "#2a3f5f"
            },
            "baxis": {
             "endlinecolor": "#2a3f5f",
             "gridcolor": "white",
             "linecolor": "white",
             "minorgridcolor": "white",
             "startlinecolor": "#2a3f5f"
            },
            "type": "carpet"
           }
          ],
          "choropleth": [
           {
            "colorbar": {
             "outlinewidth": 0,
             "ticks": ""
            },
            "type": "choropleth"
           }
          ],
          "contour": [
           {
            "colorbar": {
             "outlinewidth": 0,
             "ticks": ""
            },
            "colorscale": [
             [
              0,
              "#0d0887"
             ],
             [
              0.1111111111111111,
              "#46039f"
             ],
             [
              0.2222222222222222,
              "#7201a8"
             ],
             [
              0.3333333333333333,
              "#9c179e"
             ],
             [
              0.4444444444444444,
              "#bd3786"
             ],
             [
              0.5555555555555556,
              "#d8576b"
             ],
             [
              0.6666666666666666,
              "#ed7953"
             ],
             [
              0.7777777777777778,
              "#fb9f3a"
             ],
             [
              0.8888888888888888,
              "#fdca26"
             ],
             [
              1,
              "#f0f921"
             ]
            ],
            "type": "contour"
           }
          ],
          "contourcarpet": [
           {
            "colorbar": {
             "outlinewidth": 0,
             "ticks": ""
            },
            "type": "contourcarpet"
           }
          ],
          "heatmap": [
           {
            "colorbar": {
             "outlinewidth": 0,
             "ticks": ""
            },
            "colorscale": [
             [
              0,
              "#0d0887"
             ],
             [
              0.1111111111111111,
              "#46039f"
             ],
             [
              0.2222222222222222,
              "#7201a8"
             ],
             [
              0.3333333333333333,
              "#9c179e"
             ],
             [
              0.4444444444444444,
              "#bd3786"
             ],
             [
              0.5555555555555556,
              "#d8576b"
             ],
             [
              0.6666666666666666,
              "#ed7953"
             ],
             [
              0.7777777777777778,
              "#fb9f3a"
             ],
             [
              0.8888888888888888,
              "#fdca26"
             ],
             [
              1,
              "#f0f921"
             ]
            ],
            "type": "heatmap"
           }
          ],
          "histogram": [
           {
            "marker": {
             "pattern": {
              "fillmode": "overlay",
              "size": 10,
              "solidity": 0.2
             }
            },
            "type": "histogram"
           }
          ],
          "histogram2d": [
           {
            "colorbar": {
             "outlinewidth": 0,
             "ticks": ""
            },
            "colorscale": [
             [
              0,
              "#0d0887"
             ],
             [
              0.1111111111111111,
              "#46039f"
             ],
             [
              0.2222222222222222,
              "#7201a8"
             ],
             [
              0.3333333333333333,
              "#9c179e"
             ],
             [
              0.4444444444444444,
              "#bd3786"
             ],
             [
              0.5555555555555556,
              "#d8576b"
             ],
             [
              0.6666666666666666,
              "#ed7953"
             ],
             [
              0.7777777777777778,
              "#fb9f3a"
             ],
             [
              0.8888888888888888,
              "#fdca26"
             ],
             [
              1,
              "#f0f921"
             ]
            ],
            "type": "histogram2d"
           }
          ],
          "histogram2dcontour": [
           {
            "colorbar": {
             "outlinewidth": 0,
             "ticks": ""
            },
            "colorscale": [
             [
              0,
              "#0d0887"
             ],
             [
              0.1111111111111111,
              "#46039f"
             ],
             [
              0.2222222222222222,
              "#7201a8"
             ],
             [
              0.3333333333333333,
              "#9c179e"
             ],
             [
              0.4444444444444444,
              "#bd3786"
             ],
             [
              0.5555555555555556,
              "#d8576b"
             ],
             [
              0.6666666666666666,
              "#ed7953"
             ],
             [
              0.7777777777777778,
              "#fb9f3a"
             ],
             [
              0.8888888888888888,
              "#fdca26"
             ],
             [
              1,
              "#f0f921"
             ]
            ],
            "type": "histogram2dcontour"
           }
          ],
          "mesh3d": [
           {
            "colorbar": {
             "outlinewidth": 0,
             "ticks": ""
            },
            "type": "mesh3d"
           }
          ],
          "parcoords": [
           {
            "line": {
             "colorbar": {
              "outlinewidth": 0,
              "ticks": ""
             }
            },
            "type": "parcoords"
           }
          ],
          "pie": [
           {
            "automargin": true,
            "type": "pie"
           }
          ],
          "scatter": [
           {
            "fillpattern": {
             "fillmode": "overlay",
             "size": 10,
             "solidity": 0.2
            },
            "type": "scatter"
           }
          ],
          "scatter3d": [
           {
            "line": {
             "colorbar": {
              "outlinewidth": 0,
              "ticks": ""
             }
            },
            "marker": {
             "colorbar": {
              "outlinewidth": 0,
              "ticks": ""
             }
            },
            "type": "scatter3d"
           }
          ],
          "scattercarpet": [
           {
            "marker": {
             "colorbar": {
              "outlinewidth": 0,
              "ticks": ""
             }
            },
            "type": "scattercarpet"
           }
          ],
          "scattergeo": [
           {
            "marker": {
             "colorbar": {
              "outlinewidth": 0,
              "ticks": ""
             }
            },
            "type": "scattergeo"
           }
          ],
          "scattergl": [
           {
            "marker": {
             "colorbar": {
              "outlinewidth": 0,
              "ticks": ""
             }
            },
            "type": "scattergl"
           }
          ],
          "scattermap": [
           {
            "marker": {
             "colorbar": {
              "outlinewidth": 0,
              "ticks": ""
             }
            },
            "type": "scattermap"
           }
          ],
          "scattermapbox": [
           {
            "marker": {
             "colorbar": {
              "outlinewidth": 0,
              "ticks": ""
             }
            },
            "type": "scattermapbox"
           }
          ],
          "scatterpolar": [
           {
            "marker": {
             "colorbar": {
              "outlinewidth": 0,
              "ticks": ""
             }
            },
            "type": "scatterpolar"
           }
          ],
          "scatterpolargl": [
           {
            "marker": {
             "colorbar": {
              "outlinewidth": 0,
              "ticks": ""
             }
            },
            "type": "scatterpolargl"
           }
          ],
          "scatterternary": [
           {
            "marker": {
             "colorbar": {
              "outlinewidth": 0,
              "ticks": ""
             }
            },
            "type": "scatterternary"
           }
          ],
          "surface": [
           {
            "colorbar": {
             "outlinewidth": 0,
             "ticks": ""
            },
            "colorscale": [
             [
              0,
              "#0d0887"
             ],
             [
              0.1111111111111111,
              "#46039f"
             ],
             [
              0.2222222222222222,
              "#7201a8"
             ],
             [
              0.3333333333333333,
              "#9c179e"
             ],
             [
              0.4444444444444444,
              "#bd3786"
             ],
             [
              0.5555555555555556,
              "#d8576b"
             ],
             [
              0.6666666666666666,
              "#ed7953"
             ],
             [
              0.7777777777777778,
              "#fb9f3a"
             ],
             [
              0.8888888888888888,
              "#fdca26"
             ],
             [
              1,
              "#f0f921"
             ]
            ],
            "type": "surface"
           }
          ],
          "table": [
           {
            "cells": {
             "fill": {
              "color": "#EBF0F8"
             },
             "line": {
              "color": "white"
             }
            },
            "header": {
             "fill": {
              "color": "#C8D4E3"
             },
             "line": {
              "color": "white"
             }
            },
            "type": "table"
           }
          ]
         },
         "layout": {
          "annotationdefaults": {
           "arrowcolor": "#2a3f5f",
           "arrowhead": 0,
           "arrowwidth": 1
          },
          "autotypenumbers": "strict",
          "coloraxis": {
           "colorbar": {
            "outlinewidth": 0,
            "ticks": ""
           }
          },
          "colorscale": {
           "diverging": [
            [
             0,
             "#8e0152"
            ],
            [
             0.1,
             "#c51b7d"
            ],
            [
             0.2,
             "#de77ae"
            ],
            [
             0.3,
             "#f1b6da"
            ],
            [
             0.4,
             "#fde0ef"
            ],
            [
             0.5,
             "#f7f7f7"
            ],
            [
             0.6,
             "#e6f5d0"
            ],
            [
             0.7,
             "#b8e186"
            ],
            [
             0.8,
             "#7fbc41"
            ],
            [
             0.9,
             "#4d9221"
            ],
            [
             1,
             "#276419"
            ]
           ],
           "sequential": [
            [
             0,
             "#0d0887"
            ],
            [
             0.1111111111111111,
             "#46039f"
            ],
            [
             0.2222222222222222,
             "#7201a8"
            ],
            [
             0.3333333333333333,
             "#9c179e"
            ],
            [
             0.4444444444444444,
             "#bd3786"
            ],
            [
             0.5555555555555556,
             "#d8576b"
            ],
            [
             0.6666666666666666,
             "#ed7953"
            ],
            [
             0.7777777777777778,
             "#fb9f3a"
            ],
            [
             0.8888888888888888,
             "#fdca26"
            ],
            [
             1,
             "#f0f921"
            ]
           ],
           "sequentialminus": [
            [
             0,
             "#0d0887"
            ],
            [
             0.1111111111111111,
             "#46039f"
            ],
            [
             0.2222222222222222,
             "#7201a8"
            ],
            [
             0.3333333333333333,
             "#9c179e"
            ],
            [
             0.4444444444444444,
             "#bd3786"
            ],
            [
             0.5555555555555556,
             "#d8576b"
            ],
            [
             0.6666666666666666,
             "#ed7953"
            ],
            [
             0.7777777777777778,
             "#fb9f3a"
            ],
            [
             0.8888888888888888,
             "#fdca26"
            ],
            [
             1,
             "#f0f921"
            ]
           ]
          },
          "colorway": [
           "#636efa",
           "#EF553B",
           "#00cc96",
           "#ab63fa",
           "#FFA15A",
           "#19d3f3",
           "#FF6692",
           "#B6E880",
           "#FF97FF",
           "#FECB52"
          ],
          "font": {
           "color": "#2a3f5f"
          },
          "geo": {
           "bgcolor": "white",
           "lakecolor": "white",
           "landcolor": "#E5ECF6",
           "showlakes": true,
           "showland": true,
           "subunitcolor": "white"
          },
          "hoverlabel": {
           "align": "left"
          },
          "hovermode": "closest",
          "mapbox": {
           "style": "light"
          },
          "paper_bgcolor": "white",
          "plot_bgcolor": "#E5ECF6",
          "polar": {
           "angularaxis": {
            "gridcolor": "white",
            "linecolor": "white",
            "ticks": ""
           },
           "bgcolor": "#E5ECF6",
           "radialaxis": {
            "gridcolor": "white",
            "linecolor": "white",
            "ticks": ""
           }
          },
          "scene": {
           "xaxis": {
            "backgroundcolor": "#E5ECF6",
            "gridcolor": "white",
            "gridwidth": 2,
            "linecolor": "white",
            "showbackground": true,
            "ticks": "",
            "zerolinecolor": "white"
           },
           "yaxis": {
            "backgroundcolor": "#E5ECF6",
            "gridcolor": "white",
            "gridwidth": 2,
            "linecolor": "white",
            "showbackground": true,
            "ticks": "",
            "zerolinecolor": "white"
           },
           "zaxis": {
            "backgroundcolor": "#E5ECF6",
            "gridcolor": "white",
            "gridwidth": 2,
            "linecolor": "white",
            "showbackground": true,
            "ticks": "",
            "zerolinecolor": "white"
           }
          },
          "shapedefaults": {
           "line": {
            "color": "#2a3f5f"
           }
          },
          "ternary": {
           "aaxis": {
            "gridcolor": "white",
            "linecolor": "white",
            "ticks": ""
           },
           "baxis": {
            "gridcolor": "white",
            "linecolor": "white",
            "ticks": ""
           },
           "bgcolor": "#E5ECF6",
           "caxis": {
            "gridcolor": "white",
            "linecolor": "white",
            "ticks": ""
           }
          },
          "title": {
           "x": 0.05
          },
          "xaxis": {
           "automargin": true,
           "gridcolor": "white",
           "linecolor": "white",
           "ticks": "",
           "title": {
            "standoff": 15
           },
           "zerolinecolor": "white",
           "zerolinewidth": 2
          },
          "yaxis": {
           "automargin": true,
           "gridcolor": "white",
           "linecolor": "white",
           "ticks": "",
           "title": {
            "standoff": 15
           },
           "zerolinecolor": "white",
           "zerolinewidth": 2
          }
         }
        },
        "title": {
         "text": "Gains per Risk Group"
        },
        "width": 800,
        "xaxis": {
         "gridcolor": "#cccccc",
         "linecolor": "black",
         "title": {
          "text": "rating"
         }
        },
        "yaxis": {
         "gridcolor": "#cccccc",
         "linecolor": "black",
         "title": {
          "text": "Percent"
         }
        }
       }
      }
     },
     "metadata": {},
     "output_type": "display_data"
    }
   ],
   "source": [
    "project.LogisticRegression_1.rating.plot_gains_per_risk_group()"
   ]
  },
  {
   "cell_type": "code",
   "execution_count": 9,
   "id": "dabf7859",
   "metadata": {},
   "outputs": [
    {
     "data": {
      "text/plain": [
       "{'power': -21.63,\n",
       " 'accuracy': 95.6,\n",
       " 'conclusion': '⚠️ The model has negative predictive power, meaning it ranks outcomes worse than random. This suggests either a serious model flaw or a reversal in prediction logic (e.g., predicting the opposite class). ✅ The model is well-calibrated, with high naïve accuracy suggesting predicted probabilities align closely with observed outcomes.'}"
      ]
     },
     "execution_count": 9,
     "metadata": {},
     "output_type": "execute_result"
    }
   ],
   "source": [
    "credmodex.discriminancy.GoodnessFit.deviance_odds(\n",
    "    y_true=project.LogisticRegression_1.df['over'],\n",
    "    y_pred=project.LogisticRegression_1.df['score'],\n",
    "    p_value=True\n",
    ")"
   ]
  },
  {
   "cell_type": "code",
   "execution_count": 10,
   "id": "00c2d07f",
   "metadata": {},
   "outputs": [
    {
     "data": {
      "application/vnd.plotly.v1+json": {
       "config": {
        "plotlyServerURL": "https://plot.ly"
       },
       "data": [
        {
         "fill": "tozeroy",
         "fillcolor": "rgba(170, 98, 234, 0.2)",
         "hovertemplate": "x: %{x}<br>y: %{y}",
         "legendgroup": "distplot",
         "marker": {
          "color": "rgb(170, 98, 234)"
         },
         "mode": "lines",
         "name": "Test | 20.0%",
         "showlegend": true,
         "type": "scatter",
         "x": [
          0.309948,
          0.311128974,
          0.312309948,
          0.313490922,
          0.314671896,
          0.31585287,
          0.317033844,
          0.318214818,
          0.319395792,
          0.320576766,
          0.32175774,
          0.322938714,
          0.324119688,
          0.325300662,
          0.326481636,
          0.32766261,
          0.328843584,
          0.330024558,
          0.331205532,
          0.332386506,
          0.33356748,
          0.334748454,
          0.33592942800000003,
          0.337110402,
          0.338291376,
          0.33947235,
          0.340653324,
          0.341834298,
          0.343015272,
          0.344196246,
          0.34537722,
          0.346558194,
          0.347739168,
          0.348920142,
          0.350101116,
          0.35128209,
          0.352463064,
          0.353644038,
          0.354825012,
          0.356005986,
          0.35718696,
          0.358367934,
          0.359548908,
          0.360729882,
          0.361910856,
          0.36309183,
          0.364272804,
          0.365453778,
          0.366634752,
          0.367815726,
          0.3689967,
          0.370177674,
          0.371358648,
          0.372539622,
          0.373720596,
          0.37490157,
          0.376082544,
          0.377263518,
          0.378444492,
          0.379625466,
          0.38080643999999997,
          0.381987414,
          0.38316838799999997,
          0.384349362,
          0.385530336,
          0.38671131000000003,
          0.387892284,
          0.38907325800000003,
          0.390254232,
          0.39143520600000004,
          0.39261618,
          0.393797154,
          0.394978128,
          0.396159102,
          0.397340076,
          0.39852105,
          0.399702024,
          0.400882998,
          0.402063972,
          0.403244946,
          0.40442592,
          0.405606894,
          0.406787868,
          0.407968842,
          0.409149816,
          0.41033079,
          0.411511764,
          0.412692738,
          0.413873712,
          0.415054686,
          0.41623566,
          0.417416634,
          0.418597608,
          0.419778582,
          0.420959556,
          0.42214052999999996,
          0.423321504,
          0.424502478,
          0.425683452,
          0.426864426,
          0.4280454,
          0.42922637399999997,
          0.430407348,
          0.43158832199999997,
          0.432769296,
          0.43395026999999997,
          0.43513124400000003,
          0.436312218,
          0.43749319200000003,
          0.438674166,
          0.43985514000000003,
          0.441036114,
          0.44221708800000004,
          0.443398062,
          0.444579036,
          0.44576001,
          0.44694098400000004,
          0.448121958,
          0.449302932,
          0.450483906,
          0.45166488,
          0.452845854,
          0.454026828,
          0.455207802,
          0.456388776,
          0.45756975,
          0.458750724,
          0.459931698,
          0.461112672,
          0.462293646,
          0.46347462,
          0.464655594,
          0.465836568,
          0.467017542,
          0.468198516,
          0.46937949,
          0.47056046399999996,
          0.471741438,
          0.472922412,
          0.474103386,
          0.47528435999999996,
          0.476465334,
          0.47764630799999996,
          0.478827282,
          0.48000825599999997,
          0.48118923,
          0.48237020399999997,
          0.483551178,
          0.48473215199999997,
          0.48591312600000003,
          0.4870941,
          0.488275074,
          0.489456048,
          0.49063702200000003,
          0.491817996,
          0.49299897000000004,
          0.494179944,
          0.495360918,
          0.496541892,
          0.49772286600000004,
          0.49890384,
          0.500084814,
          0.501265788,
          0.5024467619999999,
          0.503627736,
          0.50480871,
          0.505989684,
          0.5071706579999999,
          0.508351632,
          0.509532606,
          0.51071358,
          0.511894554,
          0.513075528,
          0.5142565020000001,
          0.515437476,
          0.51661845,
          0.517799424,
          0.5189803980000001,
          0.520161372,
          0.521342346,
          0.52252332,
          0.523704294,
          0.524885268,
          0.526066242,
          0.527247216,
          0.52842819,
          0.529609164,
          0.530790138,
          0.531971112,
          0.533152086,
          0.53433306,
          0.535514034,
          0.536695008,
          0.537875982,
          0.539056956,
          0.54023793,
          0.5414189039999999,
          0.542599878,
          0.543780852,
          0.544961826,
          0.5461427999999999,
          0.547323774,
          0.548504748,
          0.549685722,
          0.5508666959999999,
          0.55204767,
          0.553228644,
          0.554409618,
          0.5555905919999999,
          0.556771566,
          0.55795254,
          0.559133514,
          0.5603144879999999,
          0.561495462,
          0.5626764360000001,
          0.56385741,
          0.565038384,
          0.566219358,
          0.5674003320000001,
          0.568581306,
          0.56976228,
          0.570943254,
          0.572124228,
          0.573305202,
          0.574486176,
          0.57566715,
          0.5768481240000001,
          0.578029098,
          0.579210072,
          0.5803910459999999,
          0.58157202,
          0.582752994,
          0.583933968,
          0.585114942,
          0.586295916,
          0.58747689,
          0.588657864,
          0.5898388379999999,
          0.591019812,
          0.592200786,
          0.59338176,
          0.5945627339999999,
          0.595743708,
          0.596924682,
          0.598105656,
          0.5992866299999999,
          0.6004676040000001,
          0.601648578,
          0.602829552,
          0.6040105259999999,
          0.6051915,
          0.606372474,
          0.607553448,
          0.6087344219999999,
          0.609915396,
          0.61109637,
          0.612277344,
          0.613458318,
          0.614639292,
          0.615820266,
          0.61700124,
          0.618182214,
          0.619363188,
          0.6205441620000001,
          0.621725136,
          0.62290611,
          0.6240870839999999,
          0.6252680580000001,
          0.626449032,
          0.627630006,
          0.62881098,
          0.629991954,
          0.631172928,
          0.632353902,
          0.633534876,
          0.6347158500000001,
          0.635896824,
          0.637077798,
          0.6382587719999999,
          0.639439746,
          0.64062072,
          0.641801694,
          0.642982668,
          0.644163642,
          0.645344616,
          0.64652559,
          0.6477065639999999,
          0.648887538,
          0.650068512,
          0.651249486,
          0.6524304599999999,
          0.653611434,
          0.654792408,
          0.655973382,
          0.6571543559999999,
          0.6583353299999999,
          0.659516304,
          0.660697278,
          0.661878252,
          0.663059226,
          0.6642402000000001,
          0.665421174,
          0.666602148,
          0.667783122,
          0.6689640960000001,
          0.67014507,
          0.671326044,
          0.6725070179999999,
          0.673687992,
          0.674868966,
          0.67604994,
          0.677230914,
          0.6784118880000001,
          0.679592862,
          0.680773836,
          0.6819548099999999,
          0.683135784,
          0.684316758,
          0.685497732,
          0.6866787059999999,
          0.68785968,
          0.689040654,
          0.690221628,
          0.6914026019999999,
          0.6925835760000001,
          0.69376455,
          0.694945524,
          0.6961264979999999,
          0.697307472,
          0.698488446,
          0.69966942,
          0.700850394,
          0.702031368,
          0.703212342,
          0.704393316,
          0.7055742899999999,
          0.706755264,
          0.707936238,
          0.709117212,
          0.7102981859999999,
          0.71147916,
          0.7126601340000001,
          0.713841108,
          0.715022082,
          0.7162030559999999,
          0.7173840300000001,
          0.718565004,
          0.719745978,
          0.720926952,
          0.7221079260000001,
          0.7232889,
          0.724469874,
          0.725650848,
          0.7268318220000001,
          0.728012796,
          0.72919377,
          0.7303747439999999,
          0.731555718,
          0.732736692,
          0.733917666,
          0.73509864,
          0.7362796140000001,
          0.737460588,
          0.738641562,
          0.7398225359999999,
          0.74100351,
          0.742184484,
          0.743365458,
          0.7445464319999999,
          0.745727406,
          0.74690838,
          0.748089354,
          0.7492703279999999,
          0.750451302,
          0.751632276,
          0.75281325,
          0.7539942239999999,
          0.755175198,
          0.756356172,
          0.757537146,
          0.7587181199999999,
          0.759899094,
          0.761080068,
          0.762261042,
          0.763442016,
          0.76462299,
          0.765803964,
          0.766984938,
          0.768165912,
          0.769346886,
          0.7705278600000001,
          0.771708834,
          0.772889808,
          0.7740707819999999,
          0.775251756,
          0.77643273,
          0.777613704,
          0.778794678,
          0.779975652,
          0.781156626,
          0.7823376,
          0.7835185739999999,
          0.7846995480000001,
          0.785880522,
          0.787061496,
          0.7882424699999999,
          0.789423444,
          0.790604418,
          0.791785392,
          0.792966366,
          0.7941473400000001,
          0.795328314,
          0.796509288,
          0.7976902619999999,
          0.798871236,
          0.80005221,
          0.801233184,
          0.8024141579999999,
          0.803595132,
          0.804776106,
          0.80595708,
          0.8071380539999999,
          0.808319028,
          0.8095000019999999,
          0.810680976,
          0.81186195,
          0.813042924,
          0.814223898,
          0.815404872,
          0.816585846,
          0.81776682,
          0.8189477940000001,
          0.820128768,
          0.821309742,
          0.822490716,
          0.8236716900000001,
          0.824852664,
          0.8260336380000001,
          0.827214612,
          0.828395586,
          0.82957656,
          0.830757534,
          0.831938508,
          0.833119482,
          0.8343004559999999,
          0.83548143,
          0.8366624039999999,
          0.837843378,
          0.839024352,
          0.8402053260000001,
          0.8413863,
          0.842567274,
          0.843748248,
          0.844929222,
          0.846110196,
          0.84729117,
          0.8484721439999999,
          0.849653118,
          0.8508340919999999,
          0.852015066,
          0.8531960399999999,
          0.854377014,
          0.8555579879999999,
          0.856738962,
          0.857919936,
          0.85910091,
          0.860281884,
          0.861462858,
          0.8626438319999999,
          0.863824806,
          0.86500578,
          0.866186754,
          0.867367728,
          0.868548702,
          0.869729676,
          0.8709106499999999,
          0.872091624,
          0.873272598,
          0.8744535720000001,
          0.875634546,
          0.87681552,
          0.877996494,
          0.879177468,
          0.880358442,
          0.881539416,
          0.88272039,
          0.883901364,
          0.8850823379999999,
          0.886263312,
          0.8874442859999999,
          0.88862526,
          0.889806234,
          0.8909872080000001,
          0.892168182,
          0.893349156,
          0.89453013,
          0.895711104,
          0.896892078,
          0.898073052,
          0.8992540259999999
         ],
         "xaxis": "x",
         "y": {
          "bdata": "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",
          "dtype": "f8"
         },
         "yaxis": "y"
        },
        {
         "fill": "tozeroy",
         "fillcolor": "rgba(218, 139, 192, 0.2)",
         "hovertemplate": "x: %{x}<br>y: %{y}",
         "legendgroup": "distplot",
         "marker": {
          "color": "rgb(218, 139, 192)"
         },
         "mode": "lines",
         "name": "Train | 80.0%",
         "showlegend": true,
         "type": "scatter",
         "x": [
          0.310743,
          0.311928638,
          0.31311427599999997,
          0.314299914,
          0.315485552,
          0.31667119,
          0.317856828,
          0.31904246599999997,
          0.320228104,
          0.321413742,
          0.32259938,
          0.323785018,
          0.32497065599999997,
          0.326156294,
          0.327341932,
          0.32852757,
          0.329713208,
          0.33089884599999997,
          0.332084484,
          0.333270122,
          0.33445576,
          0.335641398,
          0.33682703599999997,
          0.338012674,
          0.339198312,
          0.34038395,
          0.341569588,
          0.34275522599999997,
          0.343940864,
          0.345126502,
          0.34631214,
          0.347497778,
          0.34868341599999997,
          0.349869054,
          0.351054692,
          0.35224033,
          0.353425968,
          0.35461160599999997,
          0.355797244,
          0.356982882,
          0.35816852,
          0.359354158,
          0.36053979599999997,
          0.361725434,
          0.362911072,
          0.36409671,
          0.365282348,
          0.36646798599999997,
          0.367653624,
          0.368839262,
          0.3700249,
          0.371210538,
          0.37239617599999997,
          0.373581814,
          0.374767452,
          0.37595309,
          0.377138728,
          0.37832436599999997,
          0.379510004,
          0.380695642,
          0.38188128,
          0.383066918,
          0.38425255599999997,
          0.385438194,
          0.386623832,
          0.38780947,
          0.388995108,
          0.39018074599999997,
          0.391366384,
          0.392552022,
          0.39373766,
          0.394923298,
          0.39610893599999997,
          0.397294574,
          0.398480212,
          0.39966585,
          0.400851488,
          0.40203712599999997,
          0.403222764,
          0.404408402,
          0.40559404,
          0.406779678,
          0.40796531599999997,
          0.409150954,
          0.410336592,
          0.41152223,
          0.412707868,
          0.41389350599999997,
          0.415079144,
          0.416264782,
          0.41745042,
          0.418636058,
          0.41982169599999997,
          0.421007334,
          0.422192972,
          0.42337861,
          0.424564248,
          0.42574988599999997,
          0.426935524,
          0.428121162,
          0.4293068,
          0.430492438,
          0.43167807599999997,
          0.432863714,
          0.434049352,
          0.43523499,
          0.436420628,
          0.43760626599999997,
          0.438791904,
          0.439977542,
          0.44116318,
          0.442348818,
          0.44353445599999997,
          0.444720094,
          0.445905732,
          0.44709137,
          0.44827700800000003,
          0.44946264599999997,
          0.450648284,
          0.451833922,
          0.45301956,
          0.45420519800000003,
          0.45539083599999997,
          0.456576474,
          0.457762112,
          0.45894775,
          0.46013338800000003,
          0.46131902599999997,
          0.462504664,
          0.463690302,
          0.46487594,
          0.46606157800000003,
          0.46724721599999997,
          0.468432854,
          0.469618492,
          0.47080413,
          0.47198976800000003,
          0.47317540599999997,
          0.474361044,
          0.475546682,
          0.47673232,
          0.47791795800000003,
          0.47910359599999996,
          0.480289234,
          0.481474872,
          0.48266051,
          0.48384614800000003,
          0.48503178599999996,
          0.486217424,
          0.48740306199999994,
          0.4885887,
          0.48977433800000003,
          0.49095997599999996,
          0.492145614,
          0.49333125199999994,
          0.49451689,
          0.49570252800000003,
          0.49688816599999996,
          0.498073804,
          0.49925944199999994,
          0.50044508,
          0.501630718,
          0.502816356,
          0.504001994,
          0.5051876319999999,
          0.50637327,
          0.507558908,
          0.508744546,
          0.509930184,
          0.5111158219999999,
          0.51230146,
          0.513487098,
          0.514672736,
          0.515858374,
          0.5170440119999999,
          0.51822965,
          0.519415288,
          0.520600926,
          0.521786564,
          0.5229722019999999,
          0.52415784,
          0.5253434779999999,
          0.526529116,
          0.527714754,
          0.5289003919999999,
          0.53008603,
          0.531271668,
          0.532457306,
          0.533642944,
          0.5348285819999999,
          0.53601422,
          0.5371998579999999,
          0.538385496,
          0.539571134,
          0.5407567719999999,
          0.54194241,
          0.543128048,
          0.544313686,
          0.545499324,
          0.5466849619999999,
          0.5478706,
          0.5490562379999999,
          0.550241876,
          0.551427514,
          0.5526131519999999,
          0.55379879,
          0.554984428,
          0.556170066,
          0.557355704,
          0.558541342,
          0.55972698,
          0.5609126179999999,
          0.562098256,
          0.563283894,
          0.5644695319999999,
          0.56565517,
          0.566840808,
          0.568026446,
          0.569212084,
          0.570397722,
          0.57158336,
          0.572768998,
          0.573954636,
          0.575140274,
          0.5763259119999999,
          0.57751155,
          0.578697188,
          0.579882826,
          0.581068464,
          0.582254102,
          0.58343974,
          0.584625378,
          0.5858110160000001,
          0.586996654,
          0.5881822919999999,
          0.58936793,
          0.590553568,
          0.591739206,
          0.592924844,
          0.594110482,
          0.59529612,
          0.596481758,
          0.5976673960000001,
          0.598853034,
          0.6000386719999999,
          0.60122431,
          0.602409948,
          0.603595586,
          0.604781224,
          0.605966862,
          0.6071525,
          0.608338138,
          0.6095237760000001,
          0.610709414,
          0.6118950519999999,
          0.61308069,
          0.614266328,
          0.615451966,
          0.616637604,
          0.617823242,
          0.61900888,
          0.6201945179999999,
          0.6213801560000001,
          0.622565794,
          0.6237514319999999,
          0.62493707,
          0.626122708,
          0.627308346,
          0.628493984,
          0.629679622,
          0.63086526,
          0.6320508979999999,
          0.6332365360000001,
          0.634422174,
          0.6356078119999999,
          0.63679345,
          0.637979088,
          0.639164726,
          0.640350364,
          0.641536002,
          0.64272164,
          0.6439072779999999,
          0.6450929160000001,
          0.646278554,
          0.6474641919999999,
          0.64864983,
          0.649835468,
          0.651021106,
          0.652206744,
          0.653392382,
          0.65457802,
          0.6557636579999999,
          0.6569492960000001,
          0.658134934,
          0.6593205719999999,
          0.66050621,
          0.661691848,
          0.662877486,
          0.6640631239999999,
          0.665248762,
          0.6664344,
          0.6676200379999999,
          0.6688056760000001,
          0.669991314,
          0.6711769519999999,
          0.67236259,
          0.673548228,
          0.674733866,
          0.6759195039999999,
          0.677105142,
          0.67829078,
          0.6794764179999999,
          0.6806620560000001,
          0.681847694,
          0.6830333319999999,
          0.68421897,
          0.685404608,
          0.686590246,
          0.6877758839999999,
          0.688961522,
          0.69014716,
          0.6913327979999999,
          0.6925184360000001,
          0.693704074,
          0.6948897119999999,
          0.69607535,
          0.697260988,
          0.698446626,
          0.6996322639999999,
          0.700817902,
          0.70200354,
          0.7031891779999999,
          0.7043748160000001,
          0.705560454,
          0.7067460919999999,
          0.70793173,
          0.709117368,
          0.710303006,
          0.7114886439999999,
          0.712674282,
          0.71385992,
          0.7150455579999999,
          0.7162311960000001,
          0.717416834,
          0.7186024719999999,
          0.71978811,
          0.720973748,
          0.722159386,
          0.7233450239999999,
          0.724530662,
          0.7257163,
          0.7269019379999999,
          0.728087576,
          0.729273214,
          0.7304588519999999,
          0.73164449,
          0.732830128,
          0.734015766,
          0.7352014039999999,
          0.736387042,
          0.73757268,
          0.7387583179999999,
          0.739943956,
          0.741129594,
          0.7423152319999999,
          0.74350087,
          0.744686508,
          0.745872146,
          0.7470577839999999,
          0.748243422,
          0.74942906,
          0.7506146979999999,
          0.751800336,
          0.752985974,
          0.7541716119999999,
          0.75535725,
          0.756542888,
          0.757728526,
          0.7589141639999999,
          0.760099802,
          0.76128544,
          0.7624710779999999,
          0.763656716,
          0.764842354,
          0.7660279919999999,
          0.76721363,
          0.768399268,
          0.769584906,
          0.7707705439999999,
          0.7719561819999999,
          0.77314182,
          0.7743274579999999,
          0.775513096,
          0.776698734,
          0.7778843719999999,
          0.77907001,
          0.780255648,
          0.781441286,
          0.7826269239999999,
          0.7838125619999999,
          0.7849982,
          0.7861838379999999,
          0.787369476,
          0.788555114,
          0.7897407519999999,
          0.79092639,
          0.792112028,
          0.793297666,
          0.7944833039999999,
          0.7956689419999999,
          0.79685458,
          0.7980402179999999,
          0.799225856,
          0.800411494,
          0.8015971319999999,
          0.80278277,
          0.803968408,
          0.805154046,
          0.806339684,
          0.8075253219999999,
          0.80871096,
          0.8098965979999999,
          0.811082236,
          0.812267874,
          0.8134535119999999,
          0.81463915,
          0.8158247879999999,
          0.817010426,
          0.818196064,
          0.8193817019999999,
          0.82056734,
          0.821752978,
          0.822938616,
          0.824124254,
          0.8253098919999999,
          0.82649553,
          0.827681168,
          0.828866806,
          0.830052444,
          0.831238082,
          0.83242372,
          0.833609358,
          0.8347949960000001,
          0.835980634,
          0.8371662719999999,
          0.83835191,
          0.8395375479999999,
          0.840723186,
          0.8419088239999999,
          0.8430944619999999,
          0.8442801,
          0.8454657379999999,
          0.846651376,
          0.847837014,
          0.8490226519999999,
          0.85020829,
          0.851393928,
          0.852579566,
          0.853765204,
          0.854950842,
          0.85613648,
          0.857322118,
          0.8585077560000001,
          0.859693394,
          0.860879032,
          0.86206467,
          0.8632503079999999,
          0.864435946,
          0.8656215839999999,
          0.8668072219999999,
          0.86799286,
          0.8691784979999999,
          0.870364136,
          0.871549774,
          0.8727354119999999,
          0.87392105,
          0.875106688,
          0.876292326,
          0.877477964,
          0.878663602,
          0.87984924,
          0.881034878,
          0.8822205160000001,
          0.883406154,
          0.884591792,
          0.8857774299999999,
          0.8869630679999999,
          0.888148706,
          0.8893343439999999,
          0.8905199819999999,
          0.89170562,
          0.8928912579999999,
          0.894076896,
          0.895262534,
          0.8964481719999999,
          0.89763381,
          0.898819448,
          0.900005086,
          0.901190724,
          0.902376362
         ],
         "xaxis": "x",
         "y": {
          "bdata": "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",
          "dtype": "f8"
         },
         "yaxis": "y"
        }
       ],
       "layout": {
        "height": 450,
        "paper_bgcolor": "white",
        "plot_bgcolor": "white",
        "template": {
         "data": {
          "bar": [
           {
            "error_x": {
             "color": "#2a3f5f"
            },
            "error_y": {
             "color": "#2a3f5f"
            },
            "marker": {
             "line": {
              "color": "#E5ECF6",
              "width": 0.5
             },
             "pattern": {
              "fillmode": "overlay",
              "size": 10,
              "solidity": 0.2
             }
            },
            "type": "bar"
           }
          ],
          "barpolar": [
           {
            "marker": {
             "line": {
              "color": "#E5ECF6",
              "width": 0.5
             },
             "pattern": {
              "fillmode": "overlay",
              "size": 10,
              "solidity": 0.2
             }
            },
            "type": "barpolar"
           }
          ],
          "carpet": [
           {
            "aaxis": {
             "endlinecolor": "#2a3f5f",
             "gridcolor": "white",
             "linecolor": "white",
             "minorgridcolor": "white",
             "startlinecolor": "#2a3f5f"
            },
            "baxis": {
             "endlinecolor": "#2a3f5f",
             "gridcolor": "white",
             "linecolor": "white",
             "minorgridcolor": "white",
             "startlinecolor": "#2a3f5f"
            },
            "type": "carpet"
           }
          ],
          "choropleth": [
           {
            "colorbar": {
             "outlinewidth": 0,
             "ticks": ""
            },
            "type": "choropleth"
           }
          ],
          "contour": [
           {
            "colorbar": {
             "outlinewidth": 0,
             "ticks": ""
            },
            "colorscale": [
             [
              0,
              "#0d0887"
             ],
             [
              0.1111111111111111,
              "#46039f"
             ],
             [
              0.2222222222222222,
              "#7201a8"
             ],
             [
              0.3333333333333333,
              "#9c179e"
             ],
             [
              0.4444444444444444,
              "#bd3786"
             ],
             [
              0.5555555555555556,
              "#d8576b"
             ],
             [
              0.6666666666666666,
              "#ed7953"
             ],
             [
              0.7777777777777778,
              "#fb9f3a"
             ],
             [
              0.8888888888888888,
              "#fdca26"
             ],
             [
              1,
              "#f0f921"
             ]
            ],
            "type": "contour"
           }
          ],
          "contourcarpet": [
           {
            "colorbar": {
             "outlinewidth": 0,
             "ticks": ""
            },
            "type": "contourcarpet"
           }
          ],
          "heatmap": [
           {
            "colorbar": {
             "outlinewidth": 0,
             "ticks": ""
            },
            "colorscale": [
             [
              0,
              "#0d0887"
             ],
             [
              0.1111111111111111,
              "#46039f"
             ],
             [
              0.2222222222222222,
              "#7201a8"
             ],
             [
              0.3333333333333333,
              "#9c179e"
             ],
             [
              0.4444444444444444,
              "#bd3786"
             ],
             [
              0.5555555555555556,
              "#d8576b"
             ],
             [
              0.6666666666666666,
              "#ed7953"
             ],
             [
              0.7777777777777778,
              "#fb9f3a"
             ],
             [
              0.8888888888888888,
              "#fdca26"
             ],
             [
              1,
              "#f0f921"
             ]
            ],
            "type": "heatmap"
           }
          ],
          "histogram": [
           {
            "marker": {
             "pattern": {
              "fillmode": "overlay",
              "size": 10,
              "solidity": 0.2
             }
            },
            "type": "histogram"
           }
          ],
          "histogram2d": [
           {
            "colorbar": {
             "outlinewidth": 0,
             "ticks": ""
            },
            "colorscale": [
             [
              0,
              "#0d0887"
             ],
             [
              0.1111111111111111,
              "#46039f"
             ],
             [
              0.2222222222222222,
              "#7201a8"
             ],
             [
              0.3333333333333333,
              "#9c179e"
             ],
             [
              0.4444444444444444,
              "#bd3786"
             ],
             [
              0.5555555555555556,
              "#d8576b"
             ],
             [
              0.6666666666666666,
              "#ed7953"
             ],
             [
              0.7777777777777778,
              "#fb9f3a"
             ],
             [
              0.8888888888888888,
              "#fdca26"
             ],
             [
              1,
              "#f0f921"
             ]
            ],
            "type": "histogram2d"
           }
          ],
          "histogram2dcontour": [
           {
            "colorbar": {
             "outlinewidth": 0,
             "ticks": ""
            },
            "colorscale": [
             [
              0,
              "#0d0887"
             ],
             [
              0.1111111111111111,
              "#46039f"
             ],
             [
              0.2222222222222222,
              "#7201a8"
             ],
             [
              0.3333333333333333,
              "#9c179e"
             ],
             [
              0.4444444444444444,
              "#bd3786"
             ],
             [
              0.5555555555555556,
              "#d8576b"
             ],
             [
              0.6666666666666666,
              "#ed7953"
             ],
             [
              0.7777777777777778,
              "#fb9f3a"
             ],
             [
              0.8888888888888888,
              "#fdca26"
             ],
             [
              1,
              "#f0f921"
             ]
            ],
            "type": "histogram2dcontour"
           }
          ],
          "mesh3d": [
           {
            "colorbar": {
             "outlinewidth": 0,
             "ticks": ""
            },
            "type": "mesh3d"
           }
          ],
          "parcoords": [
           {
            "line": {
             "colorbar": {
              "outlinewidth": 0,
              "ticks": ""
             }
            },
            "type": "parcoords"
           }
          ],
          "pie": [
           {
            "automargin": true,
            "type": "pie"
           }
          ],
          "scatter": [
           {
            "fillpattern": {
             "fillmode": "overlay",
             "size": 10,
             "solidity": 0.2
            },
            "type": "scatter"
           }
          ],
          "scatter3d": [
           {
            "line": {
             "colorbar": {
              "outlinewidth": 0,
              "ticks": ""
             }
            },
            "marker": {
             "colorbar": {
              "outlinewidth": 0,
              "ticks": ""
             }
            },
            "type": "scatter3d"
           }
          ],
          "scattercarpet": [
           {
            "marker": {
             "colorbar": {
              "outlinewidth": 0,
              "ticks": ""
             }
            },
            "type": "scattercarpet"
           }
          ],
          "scattergeo": [
           {
            "marker": {
             "colorbar": {
              "outlinewidth": 0,
              "ticks": ""
             }
            },
            "type": "scattergeo"
           }
          ],
          "scattergl": [
           {
            "marker": {
             "colorbar": {
              "outlinewidth": 0,
              "ticks": ""
             }
            },
            "type": "scattergl"
           }
          ],
          "scattermap": [
           {
            "marker": {
             "colorbar": {
              "outlinewidth": 0,
              "ticks": ""
             }
            },
            "type": "scattermap"
           }
          ],
          "scattermapbox": [
           {
            "marker": {
             "colorbar": {
              "outlinewidth": 0,
              "ticks": ""
             }
            },
            "type": "scattermapbox"
           }
          ],
          "scatterpolar": [
           {
            "marker": {
             "colorbar": {
              "outlinewidth": 0,
              "ticks": ""
             }
            },
            "type": "scatterpolar"
           }
          ],
          "scatterpolargl": [
           {
            "marker": {
             "colorbar": {
              "outlinewidth": 0,
              "ticks": ""
             }
            },
            "type": "scatterpolargl"
           }
          ],
          "scatterternary": [
           {
            "marker": {
             "colorbar": {
              "outlinewidth": 0,
              "ticks": ""
             }
            },
            "type": "scatterternary"
           }
          ],
          "surface": [
           {
            "colorbar": {
             "outlinewidth": 0,
             "ticks": ""
            },
            "colorscale": [
             [
              0,
              "#0d0887"
             ],
             [
              0.1111111111111111,
              "#46039f"
             ],
             [
              0.2222222222222222,
              "#7201a8"
             ],
             [
              0.3333333333333333,
              "#9c179e"
             ],
             [
              0.4444444444444444,
              "#bd3786"
             ],
             [
              0.5555555555555556,
              "#d8576b"
             ],
             [
              0.6666666666666666,
              "#ed7953"
             ],
             [
              0.7777777777777778,
              "#fb9f3a"
             ],
             [
              0.8888888888888888,
              "#fdca26"
             ],
             [
              1,
              "#f0f921"
             ]
            ],
            "type": "surface"
           }
          ],
          "table": [
           {
            "cells": {
             "fill": {
              "color": "#EBF0F8"
             },
             "line": {
              "color": "white"
             }
            },
            "header": {
             "fill": {
              "color": "#C8D4E3"
             },
             "line": {
              "color": "white"
             }
            },
            "type": "table"
           }
          ]
         },
         "layout": {
          "annotationdefaults": {
           "arrowcolor": "#2a3f5f",
           "arrowhead": 0,
           "arrowwidth": 1
          },
          "autotypenumbers": "strict",
          "coloraxis": {
           "colorbar": {
            "outlinewidth": 0,
            "ticks": ""
           }
          },
          "colorscale": {
           "diverging": [
            [
             0,
             "#8e0152"
            ],
            [
             0.1,
             "#c51b7d"
            ],
            [
             0.2,
             "#de77ae"
            ],
            [
             0.3,
             "#f1b6da"
            ],
            [
             0.4,
             "#fde0ef"
            ],
            [
             0.5,
             "#f7f7f7"
            ],
            [
             0.6,
             "#e6f5d0"
            ],
            [
             0.7,
             "#b8e186"
            ],
            [
             0.8,
             "#7fbc41"
            ],
            [
             0.9,
             "#4d9221"
            ],
            [
             1,
             "#276419"
            ]
           ],
           "sequential": [
            [
             0,
             "#0d0887"
            ],
            [
             0.1111111111111111,
             "#46039f"
            ],
            [
             0.2222222222222222,
             "#7201a8"
            ],
            [
             0.3333333333333333,
             "#9c179e"
            ],
            [
             0.4444444444444444,
             "#bd3786"
            ],
            [
             0.5555555555555556,
             "#d8576b"
            ],
            [
             0.6666666666666666,
             "#ed7953"
            ],
            [
             0.7777777777777778,
             "#fb9f3a"
            ],
            [
             0.8888888888888888,
             "#fdca26"
            ],
            [
             1,
             "#f0f921"
            ]
           ],
           "sequentialminus": [
            [
             0,
             "#0d0887"
            ],
            [
             0.1111111111111111,
             "#46039f"
            ],
            [
             0.2222222222222222,
             "#7201a8"
            ],
            [
             0.3333333333333333,
             "#9c179e"
            ],
            [
             0.4444444444444444,
             "#bd3786"
            ],
            [
             0.5555555555555556,
             "#d8576b"
            ],
            [
             0.6666666666666666,
             "#ed7953"
            ],
            [
             0.7777777777777778,
             "#fb9f3a"
            ],
            [
             0.8888888888888888,
             "#fdca26"
            ],
            [
             1,
             "#f0f921"
            ]
           ]
          },
          "colorway": [
           "#636efa",
           "#EF553B",
           "#00cc96",
           "#ab63fa",
           "#FFA15A",
           "#19d3f3",
           "#FF6692",
           "#B6E880",
           "#FF97FF",
           "#FECB52"
          ],
          "font": {
           "color": "#2a3f5f"
          },
          "geo": {
           "bgcolor": "white",
           "lakecolor": "white",
           "landcolor": "#E5ECF6",
           "showlakes": true,
           "showland": true,
           "subunitcolor": "white"
          },
          "hoverlabel": {
           "align": "left"
          },
          "hovermode": "closest",
          "mapbox": {
           "style": "light"
          },
          "paper_bgcolor": "white",
          "plot_bgcolor": "#E5ECF6",
          "polar": {
           "angularaxis": {
            "gridcolor": "white",
            "linecolor": "white",
            "ticks": ""
           },
           "bgcolor": "#E5ECF6",
           "radialaxis": {
            "gridcolor": "white",
            "linecolor": "white",
            "ticks": ""
           }
          },
          "scene": {
           "xaxis": {
            "backgroundcolor": "#E5ECF6",
            "gridcolor": "white",
            "gridwidth": 2,
            "linecolor": "white",
            "showbackground": true,
            "ticks": "",
            "zerolinecolor": "white"
           },
           "yaxis": {
            "backgroundcolor": "#E5ECF6",
            "gridcolor": "white",
            "gridwidth": 2,
            "linecolor": "white",
            "showbackground": true,
            "ticks": "",
            "zerolinecolor": "white"
           },
           "zaxis": {
            "backgroundcolor": "#E5ECF6",
            "gridcolor": "white",
            "gridwidth": 2,
            "linecolor": "white",
            "showbackground": true,
            "ticks": "",
            "zerolinecolor": "white"
           }
          },
          "shapedefaults": {
           "line": {
            "color": "#2a3f5f"
           }
          },
          "ternary": {
           "aaxis": {
            "gridcolor": "white",
            "linecolor": "white",
            "ticks": ""
           },
           "baxis": {
            "gridcolor": "white",
            "linecolor": "white",
            "ticks": ""
           },
           "bgcolor": "#E5ECF6",
           "caxis": {
            "gridcolor": "white",
            "linecolor": "white",
            "ticks": ""
           }
          },
          "title": {
           "x": 0.05
          },
          "xaxis": {
           "automargin": true,
           "gridcolor": "white",
           "linecolor": "white",
           "ticks": "",
           "title": {
            "standoff": 15
           },
           "zerolinecolor": "white",
           "zerolinewidth": 2
          },
          "yaxis": {
           "automargin": true,
           "gridcolor": "white",
           "linecolor": "white",
           "ticks": "",
           "title": {
            "standoff": 15
           },
           "zerolinecolor": "white",
           "zerolinewidth": 2
          }
         }
        },
        "title": {
         "text": "Population Stability Analysis | PSI = Yellow"
        },
        "width": 900,
        "xaxis": {
         "gridcolor": "#cccccc",
         "linecolor": "black",
         "title": {
          "text": "score"
         }
        },
        "yaxis": {
         "gridcolor": "#cccccc",
         "linecolor": "black",
         "title": {
          "text": "freq"
         }
        }
       }
      }
     },
     "metadata": {},
     "output_type": "display_data"
    }
   ],
   "source": [
    "project.eval_goodness_of_fit(method='psi').plot()"
   ]
  },
  {
   "cell_type": "code",
   "execution_count": 11,
   "id": "6b6c53fd",
   "metadata": {},
   "outputs": [],
   "source": [
    "bins = credmodex.rating.CH_Binning()"
   ]
  },
  {
   "cell_type": "code",
   "execution_count": 12,
   "id": "a1a0a145",
   "metadata": {},
   "outputs": [
    {
     "data": {
      "text/plain": [
       "array(['[0.53, 0.58)', '(-inf, 0.42)', '[0.42, 0.46)', ...,\n",
       "       '[0.58, 0.64)', '[0.53, 0.58)', '(-inf, 0.42)'],\n",
       "      shape=(104510,), dtype=object)"
      ]
     },
     "execution_count": 12,
     "metadata": {},
     "output_type": "execute_result"
    }
   ],
   "source": [
    "bins.fit_transform(project.model.df['score'], project.model.df['over'])"
   ]
  },
  {
   "cell_type": "code",
   "execution_count": 13,
   "id": "99e66562",
   "metadata": {},
   "outputs": [
    {
     "data": {
      "application/vnd.microsoft.datawrangler.viewer.v0+json": {
       "columns": [
        {
         "name": "index",
         "rawType": "object",
         "type": "unknown"
        },
        {
         "name": "Bin",
         "rawType": "object",
         "type": "string"
        },
        {
         "name": "Count",
         "rawType": "int64",
         "type": "integer"
        },
        {
         "name": "Count (%)",
         "rawType": "float64",
         "type": "float"
        },
        {
         "name": "Non-event",
         "rawType": "int64",
         "type": "integer"
        },
        {
         "name": "Event",
         "rawType": "int64",
         "type": "integer"
        },
        {
         "name": "Event rate",
         "rawType": "float64",
         "type": "float"
        },
        {
         "name": "WoE",
         "rawType": "object",
         "type": "unknown"
        },
        {
         "name": "IV",
         "rawType": "float64",
         "type": "float"
        },
        {
         "name": "JS",
         "rawType": "float64",
         "type": "float"
        }
       ],
       "conversionMethod": "pd.DataFrame",
       "ref": "8fdd28d1-ce03-40e9-8cb9-ef6a8bce701b",
       "rows": [
        [
         "0",
         "(-inf, 0.42)",
         "8147",
         "0.07795426274997608",
         "2848",
         "5299",
         "0.6504234687615073",
         "-0.8345122949801392",
         "0.05359282041012922",
         "0.006511239982661617"
        ],
        [
         "1",
         "[0.42, 0.46)",
         "14979",
         "0.1433259975121998",
         "6258",
         "8721",
         "0.5822151011415982",
         "-0.545484430017402",
         "0.042833277104768475",
         "0.005288750608394122"
        ],
        [
         "2",
         "[0.46, 0.50)",
         "15418",
         "0.14752655248301597",
         "7480",
         "7938",
         "0.5148527694902063",
         "-0.27303972739373183",
         "0.011090491092503934",
         "0.0013820211047452895"
        ],
        [
         "3",
         "[0.50, 0.53)",
         "11946",
         "0.1143048512104105",
         "6347",
         "5599",
         "0.4686924493554328",
         "-0.08821691506166734",
         "0.000893158582703764",
         "0.00011160863504234729"
        ],
        [
         "4",
         "[0.53, 0.58)",
         "14762",
         "0.14124964118266195",
         "8537",
         "6225",
         "0.42169082780111095",
         "0.1022250506581541",
         "0.0014667990314179856",
         "0.00018327008732161578"
        ],
        [
         "5",
         "[0.58, 0.64)",
         "17644",
         "0.16882594966988804",
         "11057",
         "6587",
         "0.3733280435275448",
         "0.30435453688246483",
         "0.015273603978214563",
         "0.0019018656058961587"
        ],
        [
         "6",
         "[0.64, 0.67)",
         "5256",
         "0.05029183810161707",
         "3497",
         "1759",
         "0.3346651445966514",
         "0.47354882730657377",
         "0.010804512280036111",
         "0.001338084601779769"
        ],
        [
         "7",
         "[0.67, 0.74)",
         "9744",
         "0.09323509711989283",
         "6817",
         "2927",
         "0.30038998357963875",
         "0.6318303196516554",
         "0.034894223238986465",
         "0.004290643184010134"
        ],
        [
         "8",
         "[0.74, inf)",
         "6614",
         "0.06328580997033777",
         "4974",
         "1640",
         "0.24795887511339582",
         "0.895916938525862",
         "0.04561247795232648",
         "0.005518212641281814"
        ],
        [
         "9",
         "Special",
         "0",
         "0.0",
         "0",
         "0",
         "0.0",
         "0.0",
         "0.0",
         "0.0"
        ],
        [
         "10",
         "Missing",
         "0",
         "0.0",
         "0",
         "0",
         "0.0",
         "0.0",
         "0.0",
         "0.0"
        ],
        [
         "Totals",
         "",
         "104510",
         "1.0",
         "57815",
         "46695",
         "0.44679934934456034",
         "",
         "0.21646136367108698",
         "0.02652569645113287"
        ]
       ],
       "shape": {
        "columns": 9,
        "rows": 12
       }
      },
      "text/html": [
       "<div>\n",
       "<style scoped>\n",
       "    .dataframe tbody tr th:only-of-type {\n",
       "        vertical-align: middle;\n",
       "    }\n",
       "\n",
       "    .dataframe tbody tr th {\n",
       "        vertical-align: top;\n",
       "    }\n",
       "\n",
       "    .dataframe thead th {\n",
       "        text-align: right;\n",
       "    }\n",
       "</style>\n",
       "<table border=\"1\" class=\"dataframe\">\n",
       "  <thead>\n",
       "    <tr style=\"text-align: right;\">\n",
       "      <th></th>\n",
       "      <th>Bin</th>\n",
       "      <th>Count</th>\n",
       "      <th>Count (%)</th>\n",
       "      <th>Non-event</th>\n",
       "      <th>Event</th>\n",
       "      <th>Event rate</th>\n",
       "      <th>WoE</th>\n",
       "      <th>IV</th>\n",
       "      <th>JS</th>\n",
       "    </tr>\n",
       "  </thead>\n",
       "  <tbody>\n",
       "    <tr>\n",
       "      <th>0</th>\n",
       "      <td>(-inf, 0.42)</td>\n",
       "      <td>8147</td>\n",
       "      <td>0.077954</td>\n",
       "      <td>2848</td>\n",
       "      <td>5299</td>\n",
       "      <td>0.650423</td>\n",
       "      <td>-0.834512</td>\n",
       "      <td>0.053593</td>\n",
       "      <td>0.006511</td>\n",
       "    </tr>\n",
       "    <tr>\n",
       "      <th>1</th>\n",
       "      <td>[0.42, 0.46)</td>\n",
       "      <td>14979</td>\n",
       "      <td>0.143326</td>\n",
       "      <td>6258</td>\n",
       "      <td>8721</td>\n",
       "      <td>0.582215</td>\n",
       "      <td>-0.545484</td>\n",
       "      <td>0.042833</td>\n",
       "      <td>0.005289</td>\n",
       "    </tr>\n",
       "    <tr>\n",
       "      <th>2</th>\n",
       "      <td>[0.46, 0.50)</td>\n",
       "      <td>15418</td>\n",
       "      <td>0.147527</td>\n",
       "      <td>7480</td>\n",
       "      <td>7938</td>\n",
       "      <td>0.514853</td>\n",
       "      <td>-0.27304</td>\n",
       "      <td>0.011090</td>\n",
       "      <td>0.001382</td>\n",
       "    </tr>\n",
       "    <tr>\n",
       "      <th>3</th>\n",
       "      <td>[0.50, 0.53)</td>\n",
       "      <td>11946</td>\n",
       "      <td>0.114305</td>\n",
       "      <td>6347</td>\n",
       "      <td>5599</td>\n",
       "      <td>0.468692</td>\n",
       "      <td>-0.088217</td>\n",
       "      <td>0.000893</td>\n",
       "      <td>0.000112</td>\n",
       "    </tr>\n",
       "    <tr>\n",
       "      <th>4</th>\n",
       "      <td>[0.53, 0.58)</td>\n",
       "      <td>14762</td>\n",
       "      <td>0.141250</td>\n",
       "      <td>8537</td>\n",
       "      <td>6225</td>\n",
       "      <td>0.421691</td>\n",
       "      <td>0.102225</td>\n",
       "      <td>0.001467</td>\n",
       "      <td>0.000183</td>\n",
       "    </tr>\n",
       "    <tr>\n",
       "      <th>5</th>\n",
       "      <td>[0.58, 0.64)</td>\n",
       "      <td>17644</td>\n",
       "      <td>0.168826</td>\n",
       "      <td>11057</td>\n",
       "      <td>6587</td>\n",
       "      <td>0.373328</td>\n",
       "      <td>0.304355</td>\n",
       "      <td>0.015274</td>\n",
       "      <td>0.001902</td>\n",
       "    </tr>\n",
       "    <tr>\n",
       "      <th>6</th>\n",
       "      <td>[0.64, 0.67)</td>\n",
       "      <td>5256</td>\n",
       "      <td>0.050292</td>\n",
       "      <td>3497</td>\n",
       "      <td>1759</td>\n",
       "      <td>0.334665</td>\n",
       "      <td>0.473549</td>\n",
       "      <td>0.010805</td>\n",
       "      <td>0.001338</td>\n",
       "    </tr>\n",
       "    <tr>\n",
       "      <th>7</th>\n",
       "      <td>[0.67, 0.74)</td>\n",
       "      <td>9744</td>\n",
       "      <td>0.093235</td>\n",
       "      <td>6817</td>\n",
       "      <td>2927</td>\n",
       "      <td>0.300390</td>\n",
       "      <td>0.63183</td>\n",
       "      <td>0.034894</td>\n",
       "      <td>0.004291</td>\n",
       "    </tr>\n",
       "    <tr>\n",
       "      <th>8</th>\n",
       "      <td>[0.74, inf)</td>\n",
       "      <td>6614</td>\n",
       "      <td>0.063286</td>\n",
       "      <td>4974</td>\n",
       "      <td>1640</td>\n",
       "      <td>0.247959</td>\n",
       "      <td>0.895917</td>\n",
       "      <td>0.045612</td>\n",
       "      <td>0.005518</td>\n",
       "    </tr>\n",
       "    <tr>\n",
       "      <th>9</th>\n",
       "      <td>Special</td>\n",
       "      <td>0</td>\n",
       "      <td>0.000000</td>\n",
       "      <td>0</td>\n",
       "      <td>0</td>\n",
       "      <td>0.000000</td>\n",
       "      <td>0.0</td>\n",
       "      <td>0.000000</td>\n",
       "      <td>0.000000</td>\n",
       "    </tr>\n",
       "    <tr>\n",
       "      <th>10</th>\n",
       "      <td>Missing</td>\n",
       "      <td>0</td>\n",
       "      <td>0.000000</td>\n",
       "      <td>0</td>\n",
       "      <td>0</td>\n",
       "      <td>0.000000</td>\n",
       "      <td>0.0</td>\n",
       "      <td>0.000000</td>\n",
       "      <td>0.000000</td>\n",
       "    </tr>\n",
       "    <tr>\n",
       "      <th>Totals</th>\n",
       "      <td></td>\n",
       "      <td>104510</td>\n",
       "      <td>1.000000</td>\n",
       "      <td>57815</td>\n",
       "      <td>46695</td>\n",
       "      <td>0.446799</td>\n",
       "      <td></td>\n",
       "      <td>0.216461</td>\n",
       "      <td>0.026526</td>\n",
       "    </tr>\n",
       "  </tbody>\n",
       "</table>\n",
       "</div>"
      ],
      "text/plain": [
       "                 Bin   Count  Count (%)  Non-event  Event  Event rate  \\\n",
       "0       (-inf, 0.42)    8147   0.077954       2848   5299    0.650423   \n",
       "1       [0.42, 0.46)   14979   0.143326       6258   8721    0.582215   \n",
       "2       [0.46, 0.50)   15418   0.147527       7480   7938    0.514853   \n",
       "3       [0.50, 0.53)   11946   0.114305       6347   5599    0.468692   \n",
       "4       [0.53, 0.58)   14762   0.141250       8537   6225    0.421691   \n",
       "5       [0.58, 0.64)   17644   0.168826      11057   6587    0.373328   \n",
       "6       [0.64, 0.67)    5256   0.050292       3497   1759    0.334665   \n",
       "7       [0.67, 0.74)    9744   0.093235       6817   2927    0.300390   \n",
       "8        [0.74, inf)    6614   0.063286       4974   1640    0.247959   \n",
       "9            Special       0   0.000000          0      0    0.000000   \n",
       "10           Missing       0   0.000000          0      0    0.000000   \n",
       "Totals                104510   1.000000      57815  46695    0.446799   \n",
       "\n",
       "             WoE        IV        JS  \n",
       "0      -0.834512  0.053593  0.006511  \n",
       "1      -0.545484  0.042833  0.005289  \n",
       "2       -0.27304  0.011090  0.001382  \n",
       "3      -0.088217  0.000893  0.000112  \n",
       "4       0.102225  0.001467  0.000183  \n",
       "5       0.304355  0.015274  0.001902  \n",
       "6       0.473549  0.010805  0.001338  \n",
       "7        0.63183  0.034894  0.004291  \n",
       "8       0.895917  0.045612  0.005518  \n",
       "9            0.0  0.000000  0.000000  \n",
       "10           0.0  0.000000  0.000000  \n",
       "Totals            0.216461  0.026526  "
      ]
     },
     "execution_count": 13,
     "metadata": {},
     "output_type": "execute_result"
    }
   ],
   "source": [
    "bins.binning_table.build()"
   ]
  }
 ],
 "metadata": {
  "kernelspec": {
   "display_name": "env",
   "language": "python",
   "name": "python3"
  },
  "language_info": {
   "codemirror_mode": {
    "name": "ipython",
    "version": 3
   },
   "file_extension": ".py",
   "mimetype": "text/x-python",
   "name": "python",
   "nbconvert_exporter": "python",
   "pygments_lexer": "ipython3",
   "version": "3.12.6"
  }
 },
 "nbformat": 4,
 "nbformat_minor": 5
}
