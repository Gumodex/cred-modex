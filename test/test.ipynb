{
 "cells": [
  {
   "cell_type": "code",
   "execution_count": 52,
   "id": "378f0657",
   "metadata": {},
   "outputs": [],
   "source": [
    "import sys\n",
    "import os\n",
    "import warnings\n",
    "\n",
    "import pandas as pd\n",
    "import numpy as np\n",
    "import matplotlib.pyplot as plt\n",
    "import plotly.graph_objects as go\n",
    "import plotly.figure_factory as ff\n",
    "\n",
    "import warnings\n",
    "warnings.simplefilter(action='ignore', category=FutureWarning)\n",
    "\n",
    "sys.path.append(os.path.abspath('..'))\n",
    "from credmodex.credlab import CredLab\n",
    "\n",
    "from sklearn.linear_model import LogisticRegression\n",
    "from optbinning import OptimalBinning\n",
    "from credmodex.discriminancy.discrete import Correlation\n",
    "from credmodex.utils.design import plotly_main_layout\n",
    "from credmodex.discriminancy.discrete import PSI_Discriminant"
   ]
  },
  {
   "cell_type": "code",
   "execution_count": 62,
   "id": "de277822",
   "metadata": {},
   "outputs": [],
   "source": [
    "df = {\n",
    "    'Grade': [0]*(95+309) + [1]*(187+224) + [2]*(549+299) + [3]*(1409+495) + [4]*(3743+690) + [5]*(4390+424) + [6]*(2008+94) + [7]*(593+8),\n",
    "    'Target': [0]*95+[1]*309 + [0]*187+[1]*224 + [0]*549+[1]*299 + [0]*1409+[1]*495 + [0]*3743+[1]*690 + [0]*4390+[1]*424 + [0]*2008+[1]*94 + [0]*593+[1]*8\n",
    "}\n",
    "df = pd.DataFrame(df)"
   ]
  },
  {
   "cell_type": "code",
   "execution_count": 149,
   "id": "f35bcd51",
   "metadata": {},
   "outputs": [],
   "source": [
    "df = pd.read_csv(r'df.csv')\n",
    "df['DATA'] = df['DATA'].astype('datetime64[ns]')"
   ]
  },
  {
   "cell_type": "code",
   "execution_count": 55,
   "id": "76d9e99c",
   "metadata": {},
   "outputs": [],
   "source": [
    "features = ['idade','score_scr','total_consultas','total_spc','cidade_loja_cliente']\n",
    "\n",
    "project = CredLab(\n",
    "    df, target='over', features=features, time_column='DATA',\n",
    "    test_size=0.2, split_type='random'\n",
    ")"
   ]
  },
  {
   "cell_type": "code",
   "execution_count": 56,
   "id": "5babedeb",
   "metadata": {},
   "outputs": [],
   "source": [
    "# def treatment_func(df):\n",
    "#     df = project.df.copy()\n",
    "#     df = df.dropna()\n",
    "#     return df\n",
    "\n",
    "# project.add_model(\n",
    "#     model=LogisticRegression(max_iter=1000, solver='saga'),\n",
    "#     treatment=treatment_func,\n",
    "# )"
   ]
  },
  {
   "cell_type": "code",
   "execution_count": 57,
   "id": "5f76da58",
   "metadata": {},
   "outputs": [],
   "source": [
    "# project.LogisticRegression_1.add_rating(\n",
    "#     model=OptimalBinning(dtype=\"numerical\", solver=\"cp\", max_n_bins=7)\n",
    "# )"
   ]
  },
  {
   "cell_type": "code",
   "execution_count": null,
   "id": "aa4332c7",
   "metadata": {},
   "outputs": [
    {
     "data": {
      "application/vnd.plotly.v1+json": {
       "config": {
        "plotlyServerURL": "https://plot.ly"
       },
       "data": [
        {
         "fill": "tozeroy",
         "fillcolor": "rgba(170, 98, 234, 0.2)",
         "hovertemplate": "x: %{x}<br>y: %{y}",
         "legendgroup": "distplot",
         "marker": {
          "color": "rgb(170, 98, 234)"
         },
         "mode": "lines",
         "name": "Test | 20.0%",
         "showlegend": true,
         "type": "scatter",
         "x": [
          131.14,
          132.64649999999997,
          134.153,
          135.65949999999998,
          137.166,
          138.67249999999999,
          140.17899999999997,
          141.6855,
          143.19199999999998,
          144.6985,
          146.20499999999998,
          147.7115,
          149.218,
          150.72449999999998,
          152.231,
          153.73749999999998,
          155.24399999999997,
          156.7505,
          158.25699999999998,
          159.7635,
          161.26999999999998,
          162.7765,
          164.283,
          165.78949999999998,
          167.296,
          168.80249999999998,
          170.30899999999997,
          171.8155,
          173.322,
          174.8285,
          176.33499999999998,
          177.8415,
          179.34799999999998,
          180.85449999999997,
          182.361,
          183.86749999999998,
          185.374,
          186.88049999999998,
          188.387,
          189.8935,
          191.39999999999998,
          192.9065,
          194.41299999999998,
          195.91949999999997,
          197.426,
          198.9325,
          200.439,
          201.94549999999998,
          203.452,
          204.9585,
          206.46499999999997,
          207.9715,
          209.47799999999998,
          210.98449999999997,
          212.49099999999999,
          213.9975,
          215.504,
          217.01049999999998,
          218.517,
          220.02349999999998,
          221.52999999999997,
          223.0365,
          224.543,
          226.04949999999997,
          227.55599999999998,
          229.0625,
          230.569,
          232.07549999999998,
          233.582,
          235.08849999999998,
          236.59499999999997,
          238.1015,
          239.608,
          241.1145,
          242.62099999999998,
          244.1275,
          245.634,
          247.14049999999997,
          248.647,
          250.15349999999998,
          251.65999999999997,
          253.16649999999998,
          254.673,
          256.17949999999996,
          257.686,
          259.1925,
          260.69899999999996,
          262.2055,
          263.712,
          265.21849999999995,
          266.725,
          268.2315,
          269.738,
          271.2445,
          272.751,
          274.2575,
          275.764,
          277.27049999999997,
          278.777,
          280.2835,
          281.78999999999996,
          283.2965,
          284.803,
          286.30949999999996,
          287.816,
          289.3225,
          290.82899999999995,
          292.3355,
          293.842,
          295.34849999999994,
          296.855,
          298.3615,
          299.868,
          301.3745,
          302.881,
          304.3875,
          305.894,
          307.40049999999997,
          308.907,
          310.4135,
          311.91999999999996,
          313.4265,
          314.933,
          316.43949999999995,
          317.946,
          319.4525,
          320.95899999999995,
          322.4655,
          323.972,
          325.4785,
          326.985,
          328.4915,
          329.998,
          331.5045,
          333.01099999999997,
          334.5175,
          336.024,
          337.53049999999996,
          339.037,
          340.5435,
          342.04999999999995,
          343.5565,
          345.063,
          346.56949999999995,
          348.076,
          349.5825,
          351.089,
          352.5955,
          354.102,
          355.6085,
          357.115,
          358.62149999999997,
          360.128,
          361.6345,
          363.14099999999996,
          364.6475,
          366.154,
          367.66049999999996,
          369.167,
          370.6735,
          372.17999999999995,
          373.6865,
          375.193,
          376.6995,
          378.206,
          379.7125,
          381.219,
          382.7255,
          384.23199999999997,
          385.7385,
          387.245,
          388.75149999999996,
          390.258,
          391.7645,
          393.27099999999996,
          394.7775,
          396.284,
          397.7905,
          399.29699999999997,
          400.8035,
          402.31,
          403.81649999999996,
          405.323,
          406.8295,
          408.336,
          409.8425,
          411.349,
          412.8555,
          414.36199999999997,
          415.8685,
          417.375,
          418.88149999999996,
          420.388,
          421.8945,
          423.401,
          424.90749999999997,
          426.414,
          427.9205,
          429.42699999999996,
          430.9335,
          432.44,
          433.9465,
          435.453,
          436.9595,
          438.466,
          439.97249999999997,
          441.479,
          442.9855,
          444.49199999999996,
          445.9985,
          447.505,
          449.0115,
          450.518,
          452.0245,
          453.531,
          455.03749999999997,
          456.544,
          458.0505,
          459.55699999999996,
          461.0635,
          462.57,
          464.0765,
          465.58299999999997,
          467.0895,
          468.596,
          470.10249999999996,
          471.609,
          473.1155,
          474.622,
          476.1285,
          477.635,
          479.1415,
          480.64799999999997,
          482.1545,
          483.661,
          485.16749999999996,
          486.674,
          488.1805,
          489.687,
          491.1935,
          492.7,
          494.2065,
          495.71299999999997,
          497.2195,
          498.726,
          500.23249999999996,
          501.739,
          503.2455,
          504.752,
          506.25849999999997,
          507.765,
          509.2715,
          510.77799999999996,
          512.2845,
          513.7909999999999,
          515.2975,
          516.804,
          518.3105,
          519.817,
          521.3235,
          522.8299999999999,
          524.3365,
          525.843,
          527.3495,
          528.856,
          530.3625,
          531.8689999999999,
          533.3755,
          534.8820000000001,
          536.3885,
          537.895,
          539.4014999999999,
          540.9079999999999,
          542.4145,
          543.921,
          545.4275,
          546.934,
          548.4404999999999,
          549.947,
          551.4535,
          552.96,
          554.4665,
          555.973,
          557.4794999999999,
          558.986,
          560.4925000000001,
          561.999,
          563.5055,
          565.012,
          566.5184999999999,
          568.025,
          569.5315,
          571.038,
          572.5445,
          574.0509999999999,
          575.5575,
          577.064,
          578.5705,
          580.077,
          581.5835,
          583.0899999999999,
          584.5965,
          586.1030000000001,
          587.6095,
          589.116,
          590.6225,
          592.1289999999999,
          593.6355,
          595.142,
          596.6485,
          598.155,
          599.6614999999999,
          601.168,
          602.6745,
          604.181,
          605.6875,
          607.194,
          608.7004999999999,
          610.207,
          611.7135000000001,
          613.22,
          614.7265,
          616.233,
          617.7394999999999,
          619.246,
          620.7525,
          622.259,
          623.7655,
          625.2719999999999,
          626.7785,
          628.285,
          629.7915,
          631.298,
          632.8045,
          634.3109999999999,
          635.8175,
          637.3240000000001,
          638.8305,
          640.337,
          641.8435,
          643.35,
          644.8565,
          646.3629999999999,
          647.8695,
          649.376,
          650.8824999999999,
          652.389,
          653.8955,
          655.4019999999999,
          656.9085,
          658.415,
          659.9215,
          661.428,
          662.9345,
          664.441,
          665.9475,
          667.454,
          668.9605,
          670.467,
          671.9735,
          673.48,
          674.9865,
          676.4929999999999,
          677.9995,
          679.506,
          681.0124999999999,
          682.519,
          684.0255,
          685.532,
          687.0385,
          688.545,
          690.0515,
          691.558,
          693.0645,
          694.571,
          696.0775,
          697.584,
          699.0905,
          700.597,
          702.1034999999999,
          703.61,
          705.1165,
          706.6229999999999,
          708.1295,
          709.636,
          711.1425,
          712.649,
          714.1555,
          715.662,
          717.1685,
          718.675,
          720.1815,
          721.688,
          723.1945,
          724.701,
          726.2075,
          727.7139999999999,
          729.2205,
          730.727,
          732.2334999999999,
          733.74,
          735.2465,
          736.753,
          738.2595,
          739.766,
          741.2725,
          742.779,
          744.2855,
          745.792,
          747.2985,
          748.805,
          750.3115,
          751.818,
          753.3245,
          754.831,
          756.3375,
          757.8439999999999,
          759.3505,
          760.857,
          762.3634999999999,
          763.87,
          765.3765,
          766.883,
          768.3895,
          769.896,
          771.4025,
          772.909,
          774.4155,
          775.922,
          777.4285,
          778.935,
          780.4415,
          781.948,
          783.4544999999999,
          784.961,
          786.4675,
          787.9739999999999,
          789.4805,
          790.987,
          792.4935,
          794,
          795.5065,
          797.013,
          798.5195,
          800.026,
          801.5325,
          803.039,
          804.5455,
          806.052,
          807.5585,
          809.0649999999999,
          810.5715,
          812.078,
          813.5844999999999,
          815.091,
          816.5975,
          818.104,
          819.6105,
          821.117,
          822.6235,
          824.13,
          825.6365,
          827.143,
          828.6495,
          830.156,
          831.6625,
          833.169,
          834.6754999999999,
          836.182,
          837.6885,
          839.1949999999999,
          840.7015,
          842.208,
          843.7144999999999,
          845.221,
          846.7275,
          848.234,
          849.7405,
          851.247,
          852.7535,
          854.26,
          855.7665,
          857.273,
          858.7795,
          860.286,
          861.7925,
          863.299,
          864.8054999999999,
          866.312,
          867.8185,
          869.3249999999999,
          870.8315,
          872.338,
          873.8445,
          875.351,
          876.8575,
          878.364,
          879.8705,
          881.377,
          882.8835
         ],
         "xaxis": "x",
         "y": {
          "bdata": "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",
          "dtype": "f8"
         },
         "yaxis": "y"
        },
        {
         "fill": "tozeroy",
         "fillcolor": "rgba(218, 139, 192, 0.2)",
         "hovertemplate": "x: %{x}<br>y: %{y}",
         "legendgroup": "distplot",
         "marker": {
          "color": "rgb(218, 139, 192)"
         },
         "mode": "lines",
         "name": "Train | 80.0%",
         "showlegend": true,
         "type": "scatter",
         "x": [
          0,
          1.79454,
          3.58908,
          5.38362,
          7.17816,
          8.972700000000001,
          10.76724,
          12.561779999999999,
          14.35632,
          16.15086,
          17.945400000000003,
          19.739939999999997,
          21.53448,
          23.32902,
          25.123559999999998,
          26.9181,
          28.71264,
          30.50718,
          32.30172,
          34.09626,
          35.890800000000006,
          37.68534,
          39.479879999999994,
          41.27442,
          43.06896,
          44.8635,
          46.65804,
          48.452580000000005,
          50.247119999999995,
          52.04165999999999,
          53.8362,
          55.630739999999996,
          57.42528,
          59.21982,
          61.01436,
          62.8089,
          64.60344,
          66.39797999999999,
          68.19252,
          69.98706,
          71.78160000000001,
          73.57614,
          75.37068,
          77.16522,
          78.95975999999999,
          80.7543,
          82.54884,
          84.34338000000001,
          86.13792,
          87.93245999999999,
          89.727,
          91.52153999999999,
          93.31608,
          95.11062,
          96.90516000000001,
          98.69969999999999,
          100.49423999999999,
          102.28878,
          104.08331999999999,
          105.87786,
          107.6724,
          109.46694000000001,
          111.26147999999999,
          113.05602,
          114.85056,
          116.64509999999999,
          118.43964,
          120.23418,
          122.02872,
          123.82325999999999,
          125.6178,
          127.41234,
          129.20688,
          131.00142,
          132.79595999999998,
          134.5905,
          136.38504,
          138.17958,
          139.97412,
          141.76866,
          143.56320000000002,
          145.35773999999998,
          147.15228,
          148.94682,
          150.74136,
          152.5359,
          154.33044,
          156.12498000000002,
          157.91951999999998,
          159.71406,
          161.5086,
          163.30313999999998,
          165.09768,
          166.89222,
          168.68676000000002,
          170.48129999999998,
          172.27584,
          174.07038,
          175.86491999999998,
          177.65946,
          179.454,
          181.24854000000002,
          183.04307999999997,
          184.83762,
          186.63216,
          188.42669999999998,
          190.22124,
          192.01578,
          193.81032000000002,
          195.60485999999997,
          197.39939999999999,
          199.19394,
          200.98847999999998,
          202.78302,
          204.57756,
          206.37210000000002,
          208.16663999999997,
          209.96117999999998,
          211.75572,
          213.55026,
          215.3448,
          217.13934,
          218.93388000000002,
          220.72841999999997,
          222.52295999999998,
          224.3175,
          226.11204,
          227.90658,
          229.70112,
          231.49566000000002,
          233.29019999999997,
          235.08473999999998,
          236.87928,
          238.67382,
          240.46836,
          242.2629,
          244.05744,
          245.85197999999997,
          247.64651999999998,
          249.44106,
          251.2356,
          253.03014,
          254.82468,
          256.61922,
          258.41376,
          260.2083,
          262.00284,
          263.79738000000003,
          265.59191999999996,
          267.38646,
          269.181,
          270.97553999999997,
          272.77008,
          274.56462,
          276.35916,
          278.1537,
          279.94824,
          281.74278,
          283.53732,
          285.33186,
          287.12640000000005,
          288.92094000000003,
          290.71547999999996,
          292.51002,
          294.30456,
          296.09909999999996,
          297.89364,
          299.68818,
          301.48272,
          303.27726,
          305.0718,
          306.86634,
          308.66088,
          310.45542,
          312.24996000000004,
          314.0445,
          315.83903999999995,
          317.63358,
          319.42812,
          321.22265999999996,
          323.0172,
          324.81174,
          326.60627999999997,
          328.40082,
          330.19536,
          331.9899,
          333.78444,
          335.57898,
          337.37352000000004,
          339.16806,
          340.96259999999995,
          342.75714,
          344.55168,
          346.34621999999996,
          348.14076,
          349.9353,
          351.72983999999997,
          353.52438,
          355.31892,
          357.11346000000003,
          358.908,
          360.70254,
          362.49708000000004,
          364.29162,
          366.08615999999995,
          367.8807,
          369.67524,
          371.46977999999996,
          373.26432,
          375.05886,
          376.85339999999997,
          378.64794,
          380.44248,
          382.23702000000003,
          384.03156,
          385.8261,
          387.62064000000004,
          389.41518,
          391.20971999999995,
          393.00426,
          394.79879999999997,
          396.59333999999996,
          398.38788,
          400.18242,
          401.97695999999996,
          403.7715,
          405.56604,
          407.36058,
          409.15512,
          410.94966,
          412.74420000000003,
          414.53874,
          416.33327999999995,
          418.12782,
          419.92235999999997,
          421.71689999999995,
          423.51144,
          425.30598,
          427.10052,
          428.89506,
          430.6896,
          432.48414,
          434.27868,
          436.07322,
          437.86776000000003,
          439.6623,
          441.45683999999994,
          443.25138,
          445.04591999999997,
          446.84045999999995,
          448.635,
          450.42954,
          452.22408,
          454.01862,
          455.81316,
          457.6077,
          459.40224,
          461.19678,
          462.99132000000003,
          464.78586,
          466.58039999999994,
          468.37494,
          470.16947999999996,
          471.96402,
          473.75856,
          475.5531,
          477.34764,
          479.14218,
          480.93672,
          482.73126,
          484.5258,
          486.32034,
          488.11488,
          489.90942,
          491.70395999999994,
          493.4985,
          495.29303999999996,
          497.08758,
          498.88212,
          500.67665999999997,
          502.4712,
          504.26574,
          506.06028,
          507.85482,
          509.64936,
          511.4439,
          513.23844,
          515.03298,
          516.82752,
          518.62206,
          520.4166,
          522.21114,
          524.00568,
          525.80022,
          527.5947600000001,
          529.3893,
          531.1838399999999,
          532.97838,
          534.77292,
          536.56746,
          538.362,
          540.1565400000001,
          541.9510799999999,
          543.74562,
          545.54016,
          547.3347,
          549.12924,
          550.9237800000001,
          552.71832,
          554.5128599999999,
          556.3074,
          558.1019399999999,
          559.89648,
          561.69102,
          563.48556,
          565.2801,
          567.07464,
          568.8691799999999,
          570.66372,
          572.45826,
          574.2528000000001,
          576.04734,
          577.8418800000001,
          579.63642,
          581.4309599999999,
          583.2255,
          585.02004,
          586.81458,
          588.60912,
          590.4036600000001,
          592.1981999999999,
          593.99274,
          595.78728,
          597.58182,
          599.37636,
          601.1709000000001,
          602.96544,
          604.7599799999999,
          606.55452,
          608.3490599999999,
          610.1436,
          611.93814,
          613.73268,
          615.5272199999999,
          617.32176,
          619.1162999999999,
          620.91084,
          622.70538,
          624.4999200000001,
          626.29446,
          628.089,
          629.88354,
          631.6780799999999,
          633.47262,
          635.26716,
          637.0617,
          638.85624,
          640.65078,
          642.4453199999999,
          644.23986,
          646.0344,
          647.82894,
          649.62348,
          651.4180200000001,
          653.2125599999999,
          655.0070999999999,
          656.80164,
          658.5961799999999,
          660.39072,
          662.18526,
          663.9798,
          665.7743399999999,
          667.56888,
          669.36342,
          671.15796,
          672.9525,
          674.7470400000001,
          676.54158,
          678.33612,
          680.13066,
          681.9251999999999,
          683.71974,
          685.51428,
          687.30882,
          689.10336,
          690.8979,
          692.6924399999999,
          694.48698,
          696.28152,
          698.07606,
          699.8706,
          701.6651400000001,
          703.4596799999999,
          705.2542199999999,
          707.04876,
          708.8432999999999,
          710.63784,
          712.43238,
          714.2269200000001,
          716.0214599999999,
          717.816,
          719.61054,
          721.40508,
          723.19962,
          724.9941600000001,
          726.7887,
          728.58324,
          730.37778,
          732.1723199999999,
          733.96686,
          735.7614,
          737.55594,
          739.35048,
          741.14502,
          742.9395599999999,
          744.7341,
          746.52864,
          748.32318,
          750.11772,
          751.9122600000001,
          753.7067999999999,
          755.5013399999999,
          757.29588,
          759.09042,
          760.88496,
          762.6795,
          764.4740400000001,
          766.2685799999999,
          768.06312,
          769.85766,
          771.6522,
          773.44674,
          775.2412800000001,
          777.03582,
          778.83036,
          780.6249,
          782.4194399999999,
          784.21398,
          786.00852,
          787.80306,
          789.5975999999999,
          791.39214,
          793.1866799999999,
          794.98122,
          796.77576,
          798.5703,
          800.36484,
          802.15938,
          803.9539199999999,
          805.7484599999999,
          807.543,
          809.33754,
          811.13208,
          812.92662,
          814.72116,
          816.5156999999999,
          818.31024,
          820.10478,
          821.89932,
          823.69386,
          825.4884000000001,
          827.2829399999999,
          829.07748,
          830.87202,
          832.6665599999999,
          834.4611,
          836.25564,
          838.05018,
          839.8447199999999,
          841.63926,
          843.4337999999999,
          845.22834,
          847.02288,
          848.81742,
          850.61196,
          852.4065,
          854.20104,
          855.9955799999999,
          857.79012,
          859.58466,
          861.3792,
          863.17374,
          864.96828,
          866.7628199999999,
          868.55736,
          870.3519,
          872.14644,
          873.94098,
          875.7355200000001,
          877.5300599999999,
          879.3246,
          881.11914,
          882.9136799999999,
          884.70822,
          886.50276,
          888.2973,
          890.0918399999999,
          891.88638,
          893.6809199999999,
          895.47546
         ],
         "xaxis": "x",
         "y": {
          "bdata": "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",
          "dtype": "f8"
         },
         "yaxis": "y"
        }
       ],
       "layout": {
        "height": 450,
        "paper_bgcolor": "white",
        "plot_bgcolor": "white",
        "template": {
         "data": {
          "bar": [
           {
            "error_x": {
             "color": "#2a3f5f"
            },
            "error_y": {
             "color": "#2a3f5f"
            },
            "marker": {
             "line": {
              "color": "#E5ECF6",
              "width": 0.5
             },
             "pattern": {
              "fillmode": "overlay",
              "size": 10,
              "solidity": 0.2
             }
            },
            "type": "bar"
           }
          ],
          "barpolar": [
           {
            "marker": {
             "line": {
              "color": "#E5ECF6",
              "width": 0.5
             },
             "pattern": {
              "fillmode": "overlay",
              "size": 10,
              "solidity": 0.2
             }
            },
            "type": "barpolar"
           }
          ],
          "carpet": [
           {
            "aaxis": {
             "endlinecolor": "#2a3f5f",
             "gridcolor": "white",
             "linecolor": "white",
             "minorgridcolor": "white",
             "startlinecolor": "#2a3f5f"
            },
            "baxis": {
             "endlinecolor": "#2a3f5f",
             "gridcolor": "white",
             "linecolor": "white",
             "minorgridcolor": "white",
             "startlinecolor": "#2a3f5f"
            },
            "type": "carpet"
           }
          ],
          "choropleth": [
           {
            "colorbar": {
             "outlinewidth": 0,
             "ticks": ""
            },
            "type": "choropleth"
           }
          ],
          "contour": [
           {
            "colorbar": {
             "outlinewidth": 0,
             "ticks": ""
            },
            "colorscale": [
             [
              0,
              "#0d0887"
             ],
             [
              0.1111111111111111,
              "#46039f"
             ],
             [
              0.2222222222222222,
              "#7201a8"
             ],
             [
              0.3333333333333333,
              "#9c179e"
             ],
             [
              0.4444444444444444,
              "#bd3786"
             ],
             [
              0.5555555555555556,
              "#d8576b"
             ],
             [
              0.6666666666666666,
              "#ed7953"
             ],
             [
              0.7777777777777778,
              "#fb9f3a"
             ],
             [
              0.8888888888888888,
              "#fdca26"
             ],
             [
              1,
              "#f0f921"
             ]
            ],
            "type": "contour"
           }
          ],
          "contourcarpet": [
           {
            "colorbar": {
             "outlinewidth": 0,
             "ticks": ""
            },
            "type": "contourcarpet"
           }
          ],
          "heatmap": [
           {
            "colorbar": {
             "outlinewidth": 0,
             "ticks": ""
            },
            "colorscale": [
             [
              0,
              "#0d0887"
             ],
             [
              0.1111111111111111,
              "#46039f"
             ],
             [
              0.2222222222222222,
              "#7201a8"
             ],
             [
              0.3333333333333333,
              "#9c179e"
             ],
             [
              0.4444444444444444,
              "#bd3786"
             ],
             [
              0.5555555555555556,
              "#d8576b"
             ],
             [
              0.6666666666666666,
              "#ed7953"
             ],
             [
              0.7777777777777778,
              "#fb9f3a"
             ],
             [
              0.8888888888888888,
              "#fdca26"
             ],
             [
              1,
              "#f0f921"
             ]
            ],
            "type": "heatmap"
           }
          ],
          "histogram": [
           {
            "marker": {
             "pattern": {
              "fillmode": "overlay",
              "size": 10,
              "solidity": 0.2
             }
            },
            "type": "histogram"
           }
          ],
          "histogram2d": [
           {
            "colorbar": {
             "outlinewidth": 0,
             "ticks": ""
            },
            "colorscale": [
             [
              0,
              "#0d0887"
             ],
             [
              0.1111111111111111,
              "#46039f"
             ],
             [
              0.2222222222222222,
              "#7201a8"
             ],
             [
              0.3333333333333333,
              "#9c179e"
             ],
             [
              0.4444444444444444,
              "#bd3786"
             ],
             [
              0.5555555555555556,
              "#d8576b"
             ],
             [
              0.6666666666666666,
              "#ed7953"
             ],
             [
              0.7777777777777778,
              "#fb9f3a"
             ],
             [
              0.8888888888888888,
              "#fdca26"
             ],
             [
              1,
              "#f0f921"
             ]
            ],
            "type": "histogram2d"
           }
          ],
          "histogram2dcontour": [
           {
            "colorbar": {
             "outlinewidth": 0,
             "ticks": ""
            },
            "colorscale": [
             [
              0,
              "#0d0887"
             ],
             [
              0.1111111111111111,
              "#46039f"
             ],
             [
              0.2222222222222222,
              "#7201a8"
             ],
             [
              0.3333333333333333,
              "#9c179e"
             ],
             [
              0.4444444444444444,
              "#bd3786"
             ],
             [
              0.5555555555555556,
              "#d8576b"
             ],
             [
              0.6666666666666666,
              "#ed7953"
             ],
             [
              0.7777777777777778,
              "#fb9f3a"
             ],
             [
              0.8888888888888888,
              "#fdca26"
             ],
             [
              1,
              "#f0f921"
             ]
            ],
            "type": "histogram2dcontour"
           }
          ],
          "mesh3d": [
           {
            "colorbar": {
             "outlinewidth": 0,
             "ticks": ""
            },
            "type": "mesh3d"
           }
          ],
          "parcoords": [
           {
            "line": {
             "colorbar": {
              "outlinewidth": 0,
              "ticks": ""
             }
            },
            "type": "parcoords"
           }
          ],
          "pie": [
           {
            "automargin": true,
            "type": "pie"
           }
          ],
          "scatter": [
           {
            "fillpattern": {
             "fillmode": "overlay",
             "size": 10,
             "solidity": 0.2
            },
            "type": "scatter"
           }
          ],
          "scatter3d": [
           {
            "line": {
             "colorbar": {
              "outlinewidth": 0,
              "ticks": ""
             }
            },
            "marker": {
             "colorbar": {
              "outlinewidth": 0,
              "ticks": ""
             }
            },
            "type": "scatter3d"
           }
          ],
          "scattercarpet": [
           {
            "marker": {
             "colorbar": {
              "outlinewidth": 0,
              "ticks": ""
             }
            },
            "type": "scattercarpet"
           }
          ],
          "scattergeo": [
           {
            "marker": {
             "colorbar": {
              "outlinewidth": 0,
              "ticks": ""
             }
            },
            "type": "scattergeo"
           }
          ],
          "scattergl": [
           {
            "marker": {
             "colorbar": {
              "outlinewidth": 0,
              "ticks": ""
             }
            },
            "type": "scattergl"
           }
          ],
          "scattermap": [
           {
            "marker": {
             "colorbar": {
              "outlinewidth": 0,
              "ticks": ""
             }
            },
            "type": "scattermap"
           }
          ],
          "scattermapbox": [
           {
            "marker": {
             "colorbar": {
              "outlinewidth": 0,
              "ticks": ""
             }
            },
            "type": "scattermapbox"
           }
          ],
          "scatterpolar": [
           {
            "marker": {
             "colorbar": {
              "outlinewidth": 0,
              "ticks": ""
             }
            },
            "type": "scatterpolar"
           }
          ],
          "scatterpolargl": [
           {
            "marker": {
             "colorbar": {
              "outlinewidth": 0,
              "ticks": ""
             }
            },
            "type": "scatterpolargl"
           }
          ],
          "scatterternary": [
           {
            "marker": {
             "colorbar": {
              "outlinewidth": 0,
              "ticks": ""
             }
            },
            "type": "scatterternary"
           }
          ],
          "surface": [
           {
            "colorbar": {
             "outlinewidth": 0,
             "ticks": ""
            },
            "colorscale": [
             [
              0,
              "#0d0887"
             ],
             [
              0.1111111111111111,
              "#46039f"
             ],
             [
              0.2222222222222222,
              "#7201a8"
             ],
             [
              0.3333333333333333,
              "#9c179e"
             ],
             [
              0.4444444444444444,
              "#bd3786"
             ],
             [
              0.5555555555555556,
              "#d8576b"
             ],
             [
              0.6666666666666666,
              "#ed7953"
             ],
             [
              0.7777777777777778,
              "#fb9f3a"
             ],
             [
              0.8888888888888888,
              "#fdca26"
             ],
             [
              1,
              "#f0f921"
             ]
            ],
            "type": "surface"
           }
          ],
          "table": [
           {
            "cells": {
             "fill": {
              "color": "#EBF0F8"
             },
             "line": {
              "color": "white"
             }
            },
            "header": {
             "fill": {
              "color": "#C8D4E3"
             },
             "line": {
              "color": "white"
             }
            },
            "type": "table"
           }
          ]
         },
         "layout": {
          "annotationdefaults": {
           "arrowcolor": "#2a3f5f",
           "arrowhead": 0,
           "arrowwidth": 1
          },
          "autotypenumbers": "strict",
          "coloraxis": {
           "colorbar": {
            "outlinewidth": 0,
            "ticks": ""
           }
          },
          "colorscale": {
           "diverging": [
            [
             0,
             "#8e0152"
            ],
            [
             0.1,
             "#c51b7d"
            ],
            [
             0.2,
             "#de77ae"
            ],
            [
             0.3,
             "#f1b6da"
            ],
            [
             0.4,
             "#fde0ef"
            ],
            [
             0.5,
             "#f7f7f7"
            ],
            [
             0.6,
             "#e6f5d0"
            ],
            [
             0.7,
             "#b8e186"
            ],
            [
             0.8,
             "#7fbc41"
            ],
            [
             0.9,
             "#4d9221"
            ],
            [
             1,
             "#276419"
            ]
           ],
           "sequential": [
            [
             0,
             "#0d0887"
            ],
            [
             0.1111111111111111,
             "#46039f"
            ],
            [
             0.2222222222222222,
             "#7201a8"
            ],
            [
             0.3333333333333333,
             "#9c179e"
            ],
            [
             0.4444444444444444,
             "#bd3786"
            ],
            [
             0.5555555555555556,
             "#d8576b"
            ],
            [
             0.6666666666666666,
             "#ed7953"
            ],
            [
             0.7777777777777778,
             "#fb9f3a"
            ],
            [
             0.8888888888888888,
             "#fdca26"
            ],
            [
             1,
             "#f0f921"
            ]
           ],
           "sequentialminus": [
            [
             0,
             "#0d0887"
            ],
            [
             0.1111111111111111,
             "#46039f"
            ],
            [
             0.2222222222222222,
             "#7201a8"
            ],
            [
             0.3333333333333333,
             "#9c179e"
            ],
            [
             0.4444444444444444,
             "#bd3786"
            ],
            [
             0.5555555555555556,
             "#d8576b"
            ],
            [
             0.6666666666666666,
             "#ed7953"
            ],
            [
             0.7777777777777778,
             "#fb9f3a"
            ],
            [
             0.8888888888888888,
             "#fdca26"
            ],
            [
             1,
             "#f0f921"
            ]
           ]
          },
          "colorway": [
           "#636efa",
           "#EF553B",
           "#00cc96",
           "#ab63fa",
           "#FFA15A",
           "#19d3f3",
           "#FF6692",
           "#B6E880",
           "#FF97FF",
           "#FECB52"
          ],
          "font": {
           "color": "#2a3f5f"
          },
          "geo": {
           "bgcolor": "white",
           "lakecolor": "white",
           "landcolor": "#E5ECF6",
           "showlakes": true,
           "showland": true,
           "subunitcolor": "white"
          },
          "hoverlabel": {
           "align": "left"
          },
          "hovermode": "closest",
          "mapbox": {
           "style": "light"
          },
          "paper_bgcolor": "white",
          "plot_bgcolor": "#E5ECF6",
          "polar": {
           "angularaxis": {
            "gridcolor": "white",
            "linecolor": "white",
            "ticks": ""
           },
           "bgcolor": "#E5ECF6",
           "radialaxis": {
            "gridcolor": "white",
            "linecolor": "white",
            "ticks": ""
           }
          },
          "scene": {
           "xaxis": {
            "backgroundcolor": "#E5ECF6",
            "gridcolor": "white",
            "gridwidth": 2,
            "linecolor": "white",
            "showbackground": true,
            "ticks": "",
            "zerolinecolor": "white"
           },
           "yaxis": {
            "backgroundcolor": "#E5ECF6",
            "gridcolor": "white",
            "gridwidth": 2,
            "linecolor": "white",
            "showbackground": true,
            "ticks": "",
            "zerolinecolor": "white"
           },
           "zaxis": {
            "backgroundcolor": "#E5ECF6",
            "gridcolor": "white",
            "gridwidth": 2,
            "linecolor": "white",
            "showbackground": true,
            "ticks": "",
            "zerolinecolor": "white"
           }
          },
          "shapedefaults": {
           "line": {
            "color": "#2a3f5f"
           }
          },
          "ternary": {
           "aaxis": {
            "gridcolor": "white",
            "linecolor": "white",
            "ticks": ""
           },
           "baxis": {
            "gridcolor": "white",
            "linecolor": "white",
            "ticks": ""
           },
           "bgcolor": "#E5ECF6",
           "caxis": {
            "gridcolor": "white",
            "linecolor": "white",
            "ticks": ""
           }
          },
          "title": {
           "x": 0.05
          },
          "xaxis": {
           "automargin": true,
           "gridcolor": "white",
           "linecolor": "white",
           "ticks": "",
           "title": {
            "standoff": 15
           },
           "zerolinecolor": "white",
           "zerolinewidth": 2
          },
          "yaxis": {
           "automargin": true,
           "gridcolor": "white",
           "linecolor": "white",
           "ticks": "",
           "title": {
            "standoff": 15
           },
           "zerolinecolor": "white",
           "zerolinewidth": 2
          }
         }
        },
        "title": {
         "text": "Population Stability Analysis | PSI = Green"
        },
        "width": 900,
        "xaxis": {
         "gridcolor": "#cccccc",
         "linecolor": "black",
         "title": {
          "text": "score_scr"
         }
        },
        "yaxis": {
         "gridcolor": "#cccccc",
         "linecolor": "black",
         "title": {
          "text": "freq"
         }
        }
       }
      }
     },
     "metadata": {},
     "output_type": "display_data"
    }
   ],
   "source": [
    "PSI_Discriminant(df, 'over', features).plot('score_scr',)"
   ]
  },
  {
   "cell_type": "code",
   "execution_count": null,
   "id": "9c64c4c2",
   "metadata": {},
   "outputs": [
    {
     "ename": "NameError",
     "evalue": "name 'self' is not defined",
     "output_type": "error",
     "traceback": [
      "\u001b[31m---------------------------------------------------------------------------\u001b[39m",
      "\u001b[31mNameError\u001b[39m                                 Traceback (most recent call last)",
      "\u001b[36mCell\u001b[39m\u001b[36m \u001b[39m\u001b[32mIn[8]\u001b[39m\u001b[32m, line 29\u001b[39m\n\u001b[32m     24\u001b[39m         test = \u001b[38;5;28mself\u001b[39m.test[col].value_counts(normalize=\u001b[38;5;28;01mTrue\u001b[39;00m).rename(\u001b[33m'\u001b[39m\u001b[33mPosterior\u001b[39m\u001b[33m'\u001b[39m)\n\u001b[32m     28\u001b[39m \u001b[38;5;66;03m# Assuming your DataFrame is called df and has 'score' and 'target' columns\u001b[39;00m\n\u001b[32m---> \u001b[39m\u001b[32m29\u001b[39m gini_table, gini_value = \u001b[43mbuild_gini_table_optbinning\u001b[49m\u001b[43m(\u001b[49m\u001b[43mdf\u001b[49m\u001b[43m,\u001b[49m\u001b[43m \u001b[49m\u001b[43mscore_col\u001b[49m\u001b[43m=\u001b[49m\u001b[33;43m'\u001b[39;49m\u001b[33;43mscore_scr\u001b[39;49m\u001b[33;43m'\u001b[39;49m\u001b[43m,\u001b[49m\u001b[43m \u001b[49m\u001b[43mtarget_col\u001b[49m\u001b[43m=\u001b[49m\u001b[33;43m'\u001b[39;49m\u001b[33;43mover\u001b[39;49m\u001b[33;43m'\u001b[39;49m\u001b[43m)\u001b[49m\n",
      "\u001b[36mCell\u001b[39m\u001b[36m \u001b[39m\u001b[32mIn[8]\u001b[39m\u001b[32m, line 6\u001b[39m, in \u001b[36mbuild_gini_table_optbinning\u001b[39m\u001b[34m(df, score_col, target_col)\u001b[39m\n\u001b[32m      5\u001b[39m \u001b[38;5;28;01mdef\u001b[39;00m\u001b[38;5;250m \u001b[39m\u001b[34mbuild_gini_table_optbinning\u001b[39m(df, score_col, target_col):\n\u001b[32m----> \u001b[39m\u001b[32m6\u001b[39m     \u001b[38;5;28;01mif\u001b[39;00m pd.api.types.is_datetime64_any_dtype(\u001b[38;5;28;43mself\u001b[39;49m.df[col]):\n\u001b[32m      7\u001b[39m         \u001b[38;5;28;01mreturn\u001b[39;00m \u001b[38;5;28;01mNone\u001b[39;00m\n\u001b[32m      9\u001b[39m     \u001b[38;5;28;01mif\u001b[39;00m (is_continuous) \u001b[38;5;129;01mor\u001b[39;00m (\u001b[38;5;28mself\u001b[39m.df[col].dtype == \u001b[33m'\u001b[39m\u001b[33mfloat\u001b[39m\u001b[33m'\u001b[39m):\n\u001b[32m     10\u001b[39m         \u001b[38;5;66;03m# Create bins based on training data\u001b[39;00m\n",
      "\u001b[31mNameError\u001b[39m: name 'self' is not defined"
     ]
    }
   ],
   "source": [
    "from optbinning import BinningProcess, OptimalBinning\n",
    "import pandas as pd\n",
    "import numpy as np\n",
    "\n",
    "def build_gini_table_optbinning(df, score_col, target_col):\n",
    "    if pd.api.types.is_datetime64_any_dtype(self.df[col]):\n",
    "        return None\n",
    "\n",
    "    if (is_continuous) or (self.df[col].dtype == 'float'):\n",
    "        # Create bins based on training data\n",
    "        binning = OptimalBinning(name=col, dtype=\"numerical\", max_n_bins=max_n_bins)\n",
    "        binning.fit(self.train[col].dropna(), y=self.train[self.train[col].notna()][self.target])\n",
    "\n",
    "        # Apply binning to train and test sets\n",
    "        train_binned = binning.transform(self.train[col], metric=\"bins\")\n",
    "        test_binned = binning.transform(self.test[col], metric=\"bins\")\n",
    "\n",
    "        # Convert to categorical for grouping\n",
    "        train = pd.Series(train_binned).value_counts(normalize=True).sort_index().rename(\"Reference\")\n",
    "        test = pd.Series(test_binned).value_counts(normalize=True).sort_index().rename(\"Posterior\")\n",
    "    else:\n",
    "        # Use categorical value counts\n",
    "        train = self.train[col].value_counts(normalize=True).rename('Reference')\n",
    "        test = self.test[col].value_counts(normalize=True).rename('Posterior')\n",
    "\n",
    "\n",
    "\n",
    "# Assuming your DataFrame is called df and has 'score' and 'target' columns\n",
    "gini_table, gini_value = build_gini_table_optbinning(df, score_col='score_scr', target_col='over')"
   ]
  },
  {
   "cell_type": "code",
   "execution_count": null,
   "id": "3afaeadd",
   "metadata": {},
   "outputs": [
    {
     "data": {
      "application/vnd.microsoft.datawrangler.viewer.v0+json": {
       "columns": [
        {
         "name": "index",
         "rawType": "int64",
         "type": "integer"
        },
        {
         "name": "Grade",
         "rawType": "int64",
         "type": "integer"
        },
        {
         "name": "Good",
         "rawType": "int64",
         "type": "integer"
        },
        {
         "name": "Bad",
         "rawType": "int64",
         "type": "integer"
        },
        {
         "name": "Odds",
         "rawType": "float64",
         "type": "float"
        },
        {
         "name": "CumGood%",
         "rawType": "object",
         "type": "string"
        },
        {
         "name": "CumBad%",
         "rawType": "object",
         "type": "string"
        },
        {
         "name": "FormulaGood",
         "rawType": "float64",
         "type": "float"
        },
        {
         "name": "FormulaBad",
         "rawType": "float64",
         "type": "float"
        },
        {
         "name": "Product",
         "rawType": "float64",
         "type": "float"
        }
       ],
       "conversionMethod": "pd.DataFrame",
       "ref": "e40a0144-365b-410f-bd70-3fced29e02f2",
       "rows": [
        [
         "0",
         "0",
         "27300",
         "15258",
         "1.8",
         "13.5%",
         "13.8%",
         "13.5",
         "13.8",
         "186.7"
        ],
        [
         "1",
         "1",
         "32387",
         "24986",
         "1.3",
         "29.5%",
         "36.5%",
         "29.5",
         "36.5",
         "1076.8"
        ],
        [
         "2",
         "2",
         "42658",
         "28525",
         "1.5",
         "50.6%",
         "62.3%",
         "50.6",
         "62.3",
         "3155.1"
        ],
        [
         "3",
         "3",
         "10404",
         "6296",
         "1.7",
         "55.8%",
         "68.0%",
         "55.8",
         "68.0",
         "3794.0"
        ],
        [
         "4",
         "4",
         "19108",
         "9421",
         "2.0",
         "65.2%",
         "76.6%",
         "65.2",
         "76.6",
         "4993.9"
        ],
        [
         "5",
         "5",
         "13789",
         "6339",
         "2.2",
         "72.0%",
         "82.3%",
         "72.0",
         "82.3",
         "5930.0"
        ],
        [
         "6",
         "6",
         "11375",
         "4867",
         "2.3",
         "77.7%",
         "86.7%",
         "77.7",
         "86.7",
         "6735.7"
        ],
        [
         "7",
         "7",
         "12174",
         "4724",
         "2.6",
         "83.7%",
         "91.0%",
         "83.7",
         "91.0",
         "7616.3"
        ],
        [
         "8",
         "8",
         "20035",
         "6751",
         "3.0",
         "93.6%",
         "97.1%",
         "93.6",
         "97.1",
         "9090.8"
        ],
        [
         "9",
         "9",
         "12958",
         "3163",
         "4.1",
         "100.0%",
         "100.0%",
         "100.0",
         "100.0",
         "10000.0"
        ]
       ],
       "shape": {
        "columns": 9,
        "rows": 10
       }
      },
      "text/html": [
       "<div>\n",
       "<style scoped>\n",
       "    .dataframe tbody tr th:only-of-type {\n",
       "        vertical-align: middle;\n",
       "    }\n",
       "\n",
       "    .dataframe tbody tr th {\n",
       "        vertical-align: top;\n",
       "    }\n",
       "\n",
       "    .dataframe thead th {\n",
       "        text-align: right;\n",
       "    }\n",
       "</style>\n",
       "<table border=\"1\" class=\"dataframe\">\n",
       "  <thead>\n",
       "    <tr style=\"text-align: right;\">\n",
       "      <th></th>\n",
       "      <th>Grade</th>\n",
       "      <th>Good</th>\n",
       "      <th>Bad</th>\n",
       "      <th>Odds</th>\n",
       "      <th>CumGood%</th>\n",
       "      <th>CumBad%</th>\n",
       "      <th>FormulaGood</th>\n",
       "      <th>FormulaBad</th>\n",
       "      <th>Product</th>\n",
       "    </tr>\n",
       "  </thead>\n",
       "  <tbody>\n",
       "    <tr>\n",
       "      <th>0</th>\n",
       "      <td>0</td>\n",
       "      <td>27300</td>\n",
       "      <td>15258</td>\n",
       "      <td>1.8</td>\n",
       "      <td>13.5%</td>\n",
       "      <td>13.8%</td>\n",
       "      <td>13.5</td>\n",
       "      <td>13.8</td>\n",
       "      <td>186.7</td>\n",
       "    </tr>\n",
       "    <tr>\n",
       "      <th>1</th>\n",
       "      <td>1</td>\n",
       "      <td>32387</td>\n",
       "      <td>24986</td>\n",
       "      <td>1.3</td>\n",
       "      <td>29.5%</td>\n",
       "      <td>36.5%</td>\n",
       "      <td>29.5</td>\n",
       "      <td>36.5</td>\n",
       "      <td>1076.8</td>\n",
       "    </tr>\n",
       "    <tr>\n",
       "      <th>2</th>\n",
       "      <td>2</td>\n",
       "      <td>42658</td>\n",
       "      <td>28525</td>\n",
       "      <td>1.5</td>\n",
       "      <td>50.6%</td>\n",
       "      <td>62.3%</td>\n",
       "      <td>50.6</td>\n",
       "      <td>62.3</td>\n",
       "      <td>3155.1</td>\n",
       "    </tr>\n",
       "    <tr>\n",
       "      <th>3</th>\n",
       "      <td>3</td>\n",
       "      <td>10404</td>\n",
       "      <td>6296</td>\n",
       "      <td>1.7</td>\n",
       "      <td>55.8%</td>\n",
       "      <td>68.0%</td>\n",
       "      <td>55.8</td>\n",
       "      <td>68.0</td>\n",
       "      <td>3794.0</td>\n",
       "    </tr>\n",
       "    <tr>\n",
       "      <th>4</th>\n",
       "      <td>4</td>\n",
       "      <td>19108</td>\n",
       "      <td>9421</td>\n",
       "      <td>2.0</td>\n",
       "      <td>65.2%</td>\n",
       "      <td>76.6%</td>\n",
       "      <td>65.2</td>\n",
       "      <td>76.6</td>\n",
       "      <td>4993.9</td>\n",
       "    </tr>\n",
       "    <tr>\n",
       "      <th>5</th>\n",
       "      <td>5</td>\n",
       "      <td>13789</td>\n",
       "      <td>6339</td>\n",
       "      <td>2.2</td>\n",
       "      <td>72.0%</td>\n",
       "      <td>82.3%</td>\n",
       "      <td>72.0</td>\n",
       "      <td>82.3</td>\n",
       "      <td>5930.0</td>\n",
       "    </tr>\n",
       "    <tr>\n",
       "      <th>6</th>\n",
       "      <td>6</td>\n",
       "      <td>11375</td>\n",
       "      <td>4867</td>\n",
       "      <td>2.3</td>\n",
       "      <td>77.7%</td>\n",
       "      <td>86.7%</td>\n",
       "      <td>77.7</td>\n",
       "      <td>86.7</td>\n",
       "      <td>6735.7</td>\n",
       "    </tr>\n",
       "    <tr>\n",
       "      <th>7</th>\n",
       "      <td>7</td>\n",
       "      <td>12174</td>\n",
       "      <td>4724</td>\n",
       "      <td>2.6</td>\n",
       "      <td>83.7%</td>\n",
       "      <td>91.0%</td>\n",
       "      <td>83.7</td>\n",
       "      <td>91.0</td>\n",
       "      <td>7616.3</td>\n",
       "    </tr>\n",
       "    <tr>\n",
       "      <th>8</th>\n",
       "      <td>8</td>\n",
       "      <td>20035</td>\n",
       "      <td>6751</td>\n",
       "      <td>3.0</td>\n",
       "      <td>93.6%</td>\n",
       "      <td>97.1%</td>\n",
       "      <td>93.6</td>\n",
       "      <td>97.1</td>\n",
       "      <td>9090.8</td>\n",
       "    </tr>\n",
       "    <tr>\n",
       "      <th>9</th>\n",
       "      <td>9</td>\n",
       "      <td>12958</td>\n",
       "      <td>3163</td>\n",
       "      <td>4.1</td>\n",
       "      <td>100.0%</td>\n",
       "      <td>100.0%</td>\n",
       "      <td>100.0</td>\n",
       "      <td>100.0</td>\n",
       "      <td>10000.0</td>\n",
       "    </tr>\n",
       "  </tbody>\n",
       "</table>\n",
       "</div>"
      ],
      "text/plain": [
       "   Grade   Good    Bad  Odds CumGood% CumBad%  FormulaGood  FormulaBad  \\\n",
       "0      0  27300  15258   1.8    13.5%   13.8%         13.5        13.8   \n",
       "1      1  32387  24986   1.3    29.5%   36.5%         29.5        36.5   \n",
       "2      2  42658  28525   1.5    50.6%   62.3%         50.6        62.3   \n",
       "3      3  10404   6296   1.7    55.8%   68.0%         55.8        68.0   \n",
       "4      4  19108   9421   2.0    65.2%   76.6%         65.2        76.6   \n",
       "5      5  13789   6339   2.2    72.0%   82.3%         72.0        82.3   \n",
       "6      6  11375   4867   2.3    77.7%   86.7%         77.7        86.7   \n",
       "7      7  12174   4724   2.6    83.7%   91.0%         83.7        91.0   \n",
       "8      8  20035   6751   3.0    93.6%   97.1%         93.6        97.1   \n",
       "9      9  12958   3163   4.1   100.0%  100.0%        100.0       100.0   \n",
       "\n",
       "   Product  \n",
       "0    186.7  \n",
       "1   1076.8  \n",
       "2   3155.1  \n",
       "3   3794.0  \n",
       "4   4993.9  \n",
       "5   5930.0  \n",
       "6   6735.7  \n",
       "7   7616.3  \n",
       "8   9090.8  \n",
       "9  10000.0  "
      ]
     },
     "execution_count": 18,
     "metadata": {},
     "output_type": "execute_result"
    }
   ],
   "source": [
    "gini_table"
   ]
  }
 ],
 "metadata": {
  "kernelspec": {
   "display_name": "env",
   "language": "python",
   "name": "python3"
  },
  "language_info": {
   "codemirror_mode": {
    "name": "ipython",
    "version": 3
   },
   "file_extension": ".py",
   "mimetype": "text/x-python",
   "name": "python",
   "nbconvert_exporter": "python",
   "pygments_lexer": "ipython3",
   "version": "3.12.6"
  }
 },
 "nbformat": 4,
 "nbformat_minor": 5
}
